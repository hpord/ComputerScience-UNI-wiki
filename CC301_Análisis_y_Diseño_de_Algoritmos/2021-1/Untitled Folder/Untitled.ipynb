{
 "cells": [
  {
   "cell_type": "code",
   "execution_count": 2,
   "metadata": {},
   "outputs": [
    {
     "name": "stdout",
     "output_type": "stream",
     "text": [
      "35\n"
     ]
    }
   ],
   "source": [
    "# Python3 program to implement traveling salesman\n",
    "# problem using naive approach.\n",
    "import numpy as np\n",
    "from sys import maxsize\n",
    "from numpy import genfromtxt\n",
    "from itertools import permutations\n",
    "import matplotlib.pyplot as plt\n",
    "import networkx as nx\n",
    "V = 4\n",
    "\n",
    "# implementation of traveling Salesman Problem\n",
    "def travellingSalesmanProblem(graph, s):\n",
    "\n",
    "    # store all vertex apart from source vertex\n",
    "    vertex = []\n",
    "    for i in range(V):\n",
    "        if i != s:\n",
    "            vertex.append(i)\n",
    "\n",
    "    # store minimum weight Hamiltonian Cycle\n",
    "    min_path = maxsize\n",
    "    next_permutation=permutations(vertex)\n",
    "    for i in next_permutation:\n",
    "\n",
    "        # store current Path weight(cost)\n",
    "        current_pathweight = 0\n",
    "\n",
    "        # compute current path weight\n",
    "        k = s\n",
    "        for j in i:\n",
    "            current_pathweight += graph[k][j]\n",
    "            k = j\n",
    "        current_pathweight += graph[k][s]\n",
    "\n",
    "        # update minimum\n",
    "        min_path = min(min_path, current_pathweight)\n",
    "        \n",
    "    return min_path\n",
    "\n",
    "\n",
    "# Driver Code\n",
    "if __name__ == \"__main__\":\n",
    "\n",
    "    # matrix representation of graph\n",
    "    graph = [[0, 10, 15, 20], [5, 0, 9, 10],\n",
    "        [6, 13, 0, 12], [8, 8, 9, 0]]\n",
    "    s = 0\n",
    "    print(travellingSalesmanProblem(graph, s))\n"
   ]
  },
  {
   "cell_type": "code",
   "execution_count": null,
   "metadata": {},
   "outputs": [],
   "source": []
  }
 ],
 "metadata": {
  "kernelspec": {
   "display_name": "Python 3",
   "language": "python",
   "name": "python3"
  },
  "language_info": {
   "codemirror_mode": {
    "name": "ipython",
    "version": 3
   },
   "file_extension": ".py",
   "mimetype": "text/x-python",
   "name": "python",
   "nbconvert_exporter": "python",
   "pygments_lexer": "ipython3",
   "version": "3.8.3"
  }
 },
 "nbformat": 4,
 "nbformat_minor": 4
}
