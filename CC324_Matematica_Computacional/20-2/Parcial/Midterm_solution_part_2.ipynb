{
  "nbformat": 4,
  "nbformat_minor": 0,
  "metadata": {
    "colab": {
      "name": "Midterm_solution_part_2.ipynb",
      "provenance": []
    },
    "kernelspec": {
      "name": "python3",
      "display_name": "Python 3"
    }
  },
  "cells": [
    {
      "cell_type": "markdown",
      "metadata": {
        "id": "cb1gLKXB1T50"
      },
      "source": [
        "# Midterm - solution"
      ]
    },
    {
      "cell_type": "markdown",
      "metadata": {
        "id": "45-S-TRmNmtj"
      },
      "source": [
        "First of all, let us import the libraries we are going to work with"
      ]
    },
    {
      "cell_type": "code",
      "metadata": {
        "id": "FDoSojyFNrzh"
      },
      "source": [
        "import numpy as np\n",
        "import sympy as sp\n",
        "import matplotlib.pyplot as plt\n",
        "from sympy.utilities.lambdify import lambdify"
      ],
      "execution_count": null,
      "outputs": []
    },
    {
      "cell_type": "markdown",
      "metadata": {
        "id": "DoFPxJa4THnP"
      },
      "source": [
        "## Question 3 - taken from Jordi Bardales' solution"
      ]
    },
    {
      "cell_type": "code",
      "metadata": {
        "id": "SUE-Hhj6R9c6"
      },
      "source": [
        "P = np.array([[-2, 1], [0, -4.0], [3, 2], [5, 0]])\n",
        "\n",
        "# Bezier curve\n",
        "def cubic_bezier(t, p):\n",
        "    return (1 - t)**3*p[0] + 3*(1 - t)**2*t*p[1] + 3*(1 - t)*t**2*p[2] + t**3*p[3]\n",
        "\n",
        "# B_Spline\n",
        "def N(i, k, t, t_val, T):\n",
        "    \"\"\"\n",
        "    Parameters\n",
        "    ----------\n",
        "    k: b-spline order, degre of polynomial is k - 1\n",
        "    T: vector node\n",
        "    \"\"\"\n",
        "    if k == 1:\n",
        "        return 1 if T[i] <= t_val < T[i+1] else 0\n",
        "    else:\n",
        "        return (t - T[i])/(T[i+k-1] - T[i])*N(i, k-1, t, t_val, T) + (T[i+k] - t)/(T[i+k] - T[i+1])*N(i+1, k-1, t, t_val, T)\n",
        "\n",
        "def uniform_b_spline(t, t_val, k, T, points):\n",
        "    sk = 0\n",
        "    n = len(points)\n",
        "    for i in range(n):\n",
        "        print(f\"N_{i},{k - 1} =\", sp.expand(N(i, k, t, t_val, T)))\n",
        "        sk += points[i]*N(i, k, t, t_val, T)\n",
        "    return sk\n",
        "    \n",
        "sp.init_printing(use_unicode=True)\n",
        "t = sp.symbols('t')"
      ],
      "execution_count": null,
      "outputs": []
    },
    {
      "cell_type": "markdown",
      "metadata": {
        "id": "n_az_mvTN2-Q"
      },
      "source": [
        "### (a) Parametric description $P(t)$ of the cubic Bezier "
      ]
    },
    {
      "cell_type": "code",
      "metadata": {
        "colab": {
          "base_uri": "https://localhost:8080/",
          "height": 55
        },
        "id": "lF0ES83dOHq7",
        "outputId": "3053604a-744e-4a50-e955-9f5e7b31d195"
      },
      "source": [
        "p_t = cubic_bezier(t, P)\n",
        "print(\"x(t) =\")\n",
        "sp.expand(p_t[0])"
      ],
      "execution_count": null,
      "outputs": [
        {
          "output_type": "stream",
          "text": [
            "x(t) =\n"
          ],
          "name": "stdout"
        },
        {
          "output_type": "execute_result",
          "data": {
            "image/png": "[encoded data removed]",
            "text/latex": "$$- 2.0 t^{3} + 3.0 t^{2} + 6.0 t - 2.0$$",
            "text/plain": [
              "       3        2              \n",
              "- 2.0⋅t  + 3.0⋅t  + 6.0⋅t - 2.0"
            ]
          },
          "metadata": {
            "tags": []
          },
          "execution_count": 3
        }
      ]
    },
    {
      "cell_type": "code",
      "metadata": {
        "colab": {
          "base_uri": "https://localhost:8080/",
          "height": 55
        },
        "id": "K-zDj82AOU5h",
        "outputId": "9c8a2b2f-f73f-45d2-b5ac-82fd9fc052d7"
      },
      "source": [
        "print(\"y(t) =\")\n",
        "sp.expand(p_t[1])"
      ],
      "execution_count": null,
      "outputs": [
        {
          "output_type": "stream",
          "text": [
            "y(t) =\n"
          ],
          "name": "stdout"
        },
        {
          "output_type": "execute_result",
          "data": {
            "image/png": "[encoded data removed]",
            "text/latex": "$$- 19.0 t^{3} + 33.0 t^{2} - 15.0 t + 1.0$$",
            "text/plain": [
              "        3         2               \n",
              "- 19.0⋅t  + 33.0⋅t  - 15.0⋅t + 1.0"
            ]
          },
          "metadata": {
            "tags": []
          },
          "execution_count": 4
        }
      ]
    },
    {
      "cell_type": "markdown",
      "metadata": {
        "id": "4A2Lf-NOPFWU"
      },
      "source": [
        "### (b) Print the Bezier curve above with its control points $P_0, P_1, P_2, P_4$"
      ]
    },
    {
      "cell_type": "code",
      "metadata": {
        "colab": {
          "base_uri": "https://localhost:8080/",
          "height": 281
        },
        "id": "-GASbGdnPIyV",
        "outputId": "6c8190bc-63d7-4f7d-8db1-37a7c7b4afe3"
      },
      "source": [
        "t_interval = np.linspace(0, 1, 100)\n",
        "x_interval = [-2.0*t**3 + 3.0*t**2 + 6.0*t - 2.0 for t in t_interval]\n",
        "y_interval = [-19.0*t**3 + 33.0*t**2 - 15.0*t + 1.0 for t in t_interval]\n",
        "\n",
        "plt.title(\"Bezier curve\")\n",
        "plt.plot(P[:,0], P[:,1], c='lightgray')\n",
        "plt.plot(x_interval, y_interval)\n",
        "plt.scatter(P[:,0], P[:,1])\n",
        "plt.axis(\"scaled\")\n",
        "plt.grid(True)\n",
        "plt.show()"
      ],
      "execution_count": null,
      "outputs": [
        {
          "output_type": "display_data",
          "data": {
            "image/png": "[encoded data removed]",
            "text/plain": [
              "<Figure size 432x288 with 1 Axes>"
            ]
          },
          "metadata": {
            "tags": [],
            "needs_background": "light"
          }
        }
      ]
    },
    {
      "cell_type": "markdown",
      "metadata": {
        "id": "F_KfKCBPPPsT"
      },
      "source": [
        "### (c) Parametric description $P(t)$ of the uniform quadratic B-spline\n"
      ]
    },
    {
      "cell_type": "code",
      "metadata": {
        "colab": {
          "base_uri": "https://localhost:8080/"
        },
        "id": "bHm2renEPS92",
        "outputId": "1b39c9e4-f0ad-47c1-ccb7-687bd2fa3f1e"
      },
      "source": [
        "k = 3          # degree 2, order 3\n",
        "n = len(P)     # 4 points\n",
        "T = [i for i in range(n + k)]\n",
        "\n",
        "print(\"Two intervals\\n-------------\")\n",
        "for t_val in range(k - 1, n):\n",
        "    print(f\"t in [{t_val}, {t_val + 1}]\")\n",
        "\n",
        "    b_spline = uniform_b_spline(t, t_val, k, T, P)\n",
        "    x = sp.expand(b_spline[0])\n",
        "    y = sp.expand(b_spline[1])\n",
        "\n",
        "    print(\"Parametric equation\")\n",
        "    print(\"x(t) =\", x)\n",
        "    print(\"y(t) =\", y)\n",
        "    print()"
      ],
      "execution_count": null,
      "outputs": [
        {
          "output_type": "stream",
          "text": [
            "Two intervals\n",
            "-------------\n",
            "t in [2, 3]\n",
            "N_0,2 = t**2/2 - 3*t + 9/2\n",
            "N_1,2 = -t**2 + 5*t - 11/2\n",
            "N_2,2 = t**2/2 - 2*t + 2\n",
            "N_3,2 = 0\n",
            "Parametric equation\n",
            "x(t) = 0.5*t**2 - 3.0\n",
            "y(t) = 5.5*t**2 - 27.0*t + 30.5\n",
            "\n",
            "t in [3, 4]\n",
            "N_0,2 = 0\n",
            "N_1,2 = t**2/2 - 4*t + 8\n",
            "N_2,2 = -t**2 + 7*t - 23/2\n",
            "N_3,2 = t**2/2 - 3*t + 9/2\n",
            "Parametric equation\n",
            "x(t) = -0.5*t**2 + 6.0*t - 12.0\n",
            "y(t) = -4.0*t**2 + 30.0*t - 55.0\n",
            "\n"
          ],
          "name": "stdout"
        }
      ]
    },
    {
      "cell_type": "markdown",
      "metadata": {
        "id": "qaKzKJ0hPjgf"
      },
      "source": [
        "### (d) Print B-Spline above with its control points $P_0, P_1, P_2, P_3$ "
      ]
    },
    {
      "cell_type": "code",
      "metadata": {
        "colab": {
          "base_uri": "https://localhost:8080/",
          "height": 281
        },
        "id": "_T_dwXnPPlHa",
        "outputId": "c5b5e3f3-12f5-4fcf-e2dc-b2db79e10859"
      },
      "source": [
        "t1 = np.linspace(2, 3, 100)\n",
        "x1 = [0.5*t**2 - 3.0 for t in t1]\n",
        "y1 = [5.5*t**2 - 27.0*t + 30.5 for t in t1]\n",
        "\n",
        "t2 = np.linspace(3, 4, 100)\n",
        "x2 = [-0.5*t**2 + 6.0*t - 12.0 for t in t2]\n",
        "y2 = [-4.0*t**2 + 30.0*t - 55.0 for t in t2]\n",
        "\n",
        "plt.title('Quadratic B-Spline')\n",
        "plt.plot(x1, y1)\n",
        "plt.plot(x2, y2)\n",
        "plt.scatter(P[:, 0], P[:, 1])\n",
        "plt.plot(P[:, 0], P[:, 1], '-', c='gray', alpha=0.4)\n",
        "plt.axis('scaled')\n",
        "plt.grid(True)\n",
        "plt.show()"
      ],
      "execution_count": null,
      "outputs": [
        {
          "output_type": "display_data",
          "data": {
            "image/png": "[encoded data removed]",
            "text/plain": [
              "<Figure size 432x288 with 1 Axes>"
            ]
          },
          "metadata": {
            "tags": [],
            "needs_background": "light"
          }
        }
      ]
    },
    {
      "cell_type": "markdown",
      "metadata": {
        "id": "b0MlXTl72rRi"
      },
      "source": [
        "## Question 4 - taken from Jordi Bardales' solution"
      ]
    },
    {
      "cell_type": "markdown",
      "metadata": {
        "id": "o630yKFuV8xI"
      },
      "source": [
        "### (a) Parametric description $P(t)$ of the uniform cubic B-spline"
      ]
    },
    {
      "cell_type": "code",
      "metadata": {
        "id": "gExlQeHS3Joc",
        "colab": {
          "base_uri": "https://localhost:8080/"
        },
        "outputId": "1d97b3a1-4937-4aef-8bd1-c3de04bf6a28"
      },
      "source": [
        "P4 = np.array([[-1, 0], [1, 4.0], [3, -2], [4, 3], [6, 1]])\n",
        "\n",
        "k = 4               # degree 3, order 4\n",
        "n = len(P4)         # 5 points\n",
        "T = [i for i in range(n + k)]\n",
        "\n",
        "print(\"Two intervals\\n------------\")\n",
        "for t_val in range(k - 1, n):\n",
        "    print(f\"t in [{t_val}, {t_val + 1}]\")\n",
        "\n",
        "    b_spline = uniform_b_spline(t, t_val, k, T, P4)\n",
        "    x = sp.expand(b_spline[0])\n",
        "    y = sp.expand(b_spline[1])\n",
        "\n",
        "    print(\"x(t) =\", x)\n",
        "    print(\"y(t) =\", y)\n",
        "    print()"
      ],
      "execution_count": null,
      "outputs": [
        {
          "output_type": "stream",
          "text": [
            "Two intervals\n",
            "------------\n",
            "t in [3, 4]\n",
            "N_0,3 = -t**3/6 + 2*t**2 - 8*t + 32/3\n",
            "N_1,3 = t**3/2 - 11*t**2/2 + 39*t/2 - 131/6\n",
            "N_2,3 = -t**3/2 + 5*t**2 - 16*t + 50/3\n",
            "N_3,3 = t**3/6 - 3*t**2/2 + 9*t/2 - 9/2\n",
            "N_4,3 = 0\n",
            "x(t) = -0.166666666666667*t**3 + 1.5*t**2 - 2.5*t - 0.500000000000002\n",
            "y(t) = 3.5*t**3 - 36.5*t**2 + 123.5*t - 134.166666666667\n",
            "\n",
            "t in [4, 5]\n",
            "N_0,3 = 0\n",
            "N_1,3 = -t**3/6 + 5*t**2/2 - 25*t/2 + 125/6\n",
            "N_2,3 = t**3/2 - 7*t**2 + 32*t - 142/3\n",
            "N_3,3 = -t**3/2 + 13*t**2/2 - 55*t/2 + 229/6\n",
            "N_4,3 = t**3/6 - 2*t**2 + 8*t - 32/3\n",
            "x(t) = 0.333333333333333*t**3 - 4.5*t**2 + 21.5*t - 32.5\n",
            "y(t) = -3.0*t**3 + 41.5*t**2 - 188.5*t + 281.833333333333\n",
            "\n"
          ],
          "name": "stdout"
        }
      ]
    },
    {
      "cell_type": "markdown",
      "metadata": {
        "id": "EG_6bsM4Wiig"
      },
      "source": [
        "### (b) Print B-Spline above with its control points $P_0, P_1, P_2, P_3, P_4$ "
      ]
    },
    {
      "cell_type": "code",
      "metadata": {
        "colab": {
          "base_uri": "https://localhost:8080/",
          "height": 281
        },
        "id": "NhkWQ14zW0AQ",
        "outputId": "c799b3de-cbfa-45ff-d6b9-206f5e8c869d"
      },
      "source": [
        "# interval 1\n",
        "t4_1 = np.linspace(3, 4, 100)\n",
        "x4_1 = [-0.166666666666667*t**3 + 1.5*t**2 - 2.5*t - 0.5 for t in t4_1]\n",
        "y4_1 = [3.5*t**3 - 36.5*t**2 + 123.5*t - 134.166666666667 for t in t4_1]\n",
        "\n",
        "# interval 2\n",
        "t4_2 = np.linspace(4, 5, 100)\n",
        "x4_2 = [0.333333333333333*t**3 - 4.5*t**2 + 21.5*t - 32.5 for t in t4_2]\n",
        "y4_2 = [-3.0*t**3 + 41.5*t**2 - 188.5*t + 281.833333333333 for t in t4_2]\n",
        "\n",
        "plt.title('Cubic B-Spline')\n",
        "plt.plot(x4_1, y4_1)\n",
        "plt.plot(x4_2, y4_2)\n",
        "plt.scatter(P4[:, 0], P4[:, 1])\n",
        "plt.plot(P4[:, 0], P4[:, 1], '-', c='gray', alpha=0.4)\n",
        "plt.axis('scaled')\n",
        "plt.grid(True)\n",
        "plt.show()"
      ],
      "execution_count": null,
      "outputs": [
        {
          "output_type": "display_data",
          "data": {
            "image/png": "[encoded data removed]",
            "text/plain": [
              "<Figure size 432x288 with 1 Axes>"
            ]
          },
          "metadata": {
            "tags": [],
            "needs_background": "light"
          }
        }
      ]
    },
    {
      "cell_type": "markdown",
      "metadata": {
        "id": "Owz7k97LYbRx"
      },
      "source": [
        "### (c) Verify by finding the derivatives that ...."
      ]
    },
    {
      "cell_type": "code",
      "metadata": {
        "colab": {
          "base_uri": "https://localhost:8080/"
        },
        "id": "kxx7PRk7XT_J",
        "outputId": "89acbbd3-e1e6-4c78-c569-800edfe3cfec"
      },
      "source": [
        "# First derivative\n",
        "print(\"First derivative\\n\")\n",
        "print(\"t in [3, 4]\")\n",
        "\n",
        "# The method sp.diff converts a sympy object to python function \n",
        "dx4_1 = sp.diff(-0.166666666666667*t**3 + 1.5*t**2 - 2.5*t - 0.5)\n",
        "dy4_1 = sp.diff(3.5*t**3 - 36.5*t**2 + 123.5*t - 134.166666666667)\n",
        "\n",
        "print(\"x1'(t) =\", dx4_1)\n",
        "print(\"y1'(t) =\", dy4_1)\n",
        "\n",
        "print(\"x1'(4) =\", lambdify(t, dx4_1)(4))\n",
        "print(\"y1'(4) =\", lambdify(t, dy4_1)(4))\n",
        "\n",
        "print(\"\\nt in [4, 5]\")\n",
        "dx4_2 = sp.diff(0.333333333333333*t**3 - 4.5*t**2 + 21.5*t - 32.5)\n",
        "dy4_2 = sp.diff(-3.0*t**3 + 41.5*t**2 - 188.5*t + 281.833333333333)\n",
        "\n",
        "print(\"x2'(t) =\", dx4_2)\n",
        "print(\"y2'(t) =\", dy4_2)\n",
        "\n",
        "print(\"x2'(4) =\", lambdify(t, dx4_2)(4))\n",
        "print(\"y2'(4) =\", lambdify(t, dy4_2)(4))\n",
        "print(\"\\nThe first derivates match at t=4\")"
      ],
      "execution_count": null,
      "outputs": [
        {
          "output_type": "stream",
          "text": [
            "First derivative\n",
            "\n",
            "t in [3, 4]\n",
            "x1'(t) = -0.500000000000001*t**2 + 3.0*t - 2.5\n",
            "y1'(t) = 10.5*t**2 - 73.0*t + 123.5\n",
            "x1'(4) = 1.499999999999984\n",
            "y1'(4) = -0.5\n",
            "\n",
            "t in [4, 5]\n",
            "x2'(t) = 0.999999999999999*t**2 - 9.0*t + 21.5\n",
            "y2'(t) = -9.0*t**2 + 83.0*t - 188.5\n",
            "x2'(4) = 1.4999999999999858\n",
            "y2'(4) = -0.5\n",
            "\n",
            "The first derivates match at t=4\n"
          ],
          "name": "stdout"
        }
      ]
    },
    {
      "cell_type": "code",
      "metadata": {
        "colab": {
          "base_uri": "https://localhost:8080/"
        },
        "id": "2oT4f8_3XXsu",
        "outputId": "e93eedb3-2229-49d5-cb07-ae5973b66a76"
      },
      "source": [
        "# Second derivative\n",
        "print(\"Second derivative\\n\")\n",
        "print(\"t in [3, 4]\")\n",
        "\n",
        "d2x4_1 = sp.diff(dx4_1)\n",
        "d2y4_1 = sp.diff(dy4_1)\n",
        "\n",
        "print(\"x1\\\"(t) =\", d2x4_1)\n",
        "print(\"y1\\\"(t) =\", d2y4_1)\n",
        "\n",
        "print(\"x1\\\"(4) =\", lambdify(t, d2x4_1)(4))\n",
        "print(\"y1\\\"(4) =\", lambdify(t, d2y4_1)(4))\n",
        "\n",
        "print(\"\\nt in [4, 5]\")\n",
        "\n",
        "d2x4_2 = sp.diff(dx4_2)\n",
        "d2y4_2 = sp.diff(dy4_2)\n",
        "\n",
        "print(\"x2\\\"(t) =\", d2x4_2)\n",
        "print(\"y2\\\"(t) =\", d2y4_2)\n",
        "\n",
        "print(\"x2\\\"(4) =\", lambdify(t, d2x4_2)(4))\n",
        "print(\"y2\\\"(4) =\", lambdify(t, d2y4_2)(4))\n",
        "\n",
        "print(\"\\nThe second derivates match at t=4\")"
      ],
      "execution_count": null,
      "outputs": [
        {
          "output_type": "stream",
          "text": [
            "Second derivative\n",
            "\n",
            "t in [3, 4]\n",
            "x1\"(t) = -1.0*t + 3.0\n",
            "y1\"(t) = 21.0*t - 73.0\n",
            "x1\"(4) = -1.0\n",
            "y1\"(4) = 11.0\n",
            "\n",
            "t in [4, 5]\n",
            "x2\"(t) = 2.0*t - 9.0\n",
            "y2\"(t) = -18.0*t + 83.0\n",
            "x2\"(4) = -1.0\n",
            "y2\"(4) = 11.0\n",
            "\n",
            "The second derivates match at t=4\n"
          ],
          "name": "stdout"
        }
      ]
    }
  ]
}