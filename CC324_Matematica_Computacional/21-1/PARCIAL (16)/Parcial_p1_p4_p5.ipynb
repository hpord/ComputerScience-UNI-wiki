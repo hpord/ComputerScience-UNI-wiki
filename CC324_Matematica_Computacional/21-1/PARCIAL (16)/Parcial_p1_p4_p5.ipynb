{
  "nbformat": 4,
  "nbformat_minor": 0,
  "metadata": {
    "colab": {
      "name": "Parcial-p1-p4-p5.ipynb",
      "provenance": [],
      "collapsed_sections": []
    },
    "kernelspec": {
      "name": "python3",
      "display_name": "Python 3"
    },
    "language_info": {
      "name": "python"
    }
  },
  "cells": [
    {
      "cell_type": "markdown",
      "metadata": {
        "id": "Qpbjq4471F23"
      },
      "source": [
        "## Nombres: Cristhian Wiki Sánchez Sauñe\n",
        "\n",
        "# Pregunta 1\n",
        "Write a program that takes the four consecutive vertices of a\n",
        "quadrilateral and determines whether the polygon is convex or not."
      ]
    },
    {
      "cell_type": "code",
      "metadata": {
        "colab": {
          "base_uri": "https://localhost:8080/"
        },
        "id": "tkvN8raO1Een",
        "outputId": "dfc08b05-55f9-4c45-b581-5bba4cfdd4f4"
      },
      "source": [
        "def CrossProduct(A):\n",
        "    \"\"\"\n",
        "    Función para hallar el producto cruz\n",
        "    \"\"\"\n",
        "\n",
        "    # Calculamos la componente X del vector A[1]A[0]\n",
        "    X1 = A[1][0] - A[0][0]\n",
        "\n",
        "    # Calculamos la componente Y del vector A[1]A[0]\n",
        "    Y1 = A[1][1] - A[0][1]\n",
        "\n",
        "    # Calculamos la componente X del vector A[2]A[0]\n",
        "    X2 = A[2][0] - A[0][0]\n",
        "\n",
        "    # Calculamos la componente Y del vector A[2]A[0]\n",
        "    Y2 = A[2][1] - A[0][1]\n",
        "\n",
        "    # Returnamos el producto cruz\n",
        "    return X1 * Y2 - Y1 * X2\n",
        "\n",
        "\n",
        "def isConvex(points):\n",
        "    \"\"\"\n",
        "    Función para validar si un polígono es convexo o no\n",
        "    \"\"\"\n",
        "\n",
        "    # cantidad de aristas\n",
        "    N = len(points)\n",
        "\n",
        "    # dirección del producto cruz de las previas aristas\n",
        "    # recorridas\n",
        "    prev = 0\n",
        "\n",
        "    # dirección del producto cruz de las actuales aristas\n",
        "    # recorridas\n",
        "    curr = 0\n",
        "\n",
        "    # recorrido sobre las aristas\n",
        "    for i in range(N):\n",
        "        # Almacenamos las tres aristas adyacentes del polígono\n",
        "        temp = [points[i], points[(i + 1) % N], points[(i + 2) % N]]\n",
        "\n",
        "        # Actualizamos curr\n",
        "        curr = CrossProduct(temp)\n",
        "\n",
        "        # Si curr es diferente de 0\n",
        "        if curr != 0:\n",
        "            # Si la dirección del producto cruz de todos las\n",
        "            # aristas adyacentes no es la misma\n",
        "            if curr * prev < 0:\n",
        "                return False\n",
        "        else:\n",
        "            # Actualizamos curr\n",
        "            prev = curr\n",
        "    return True\n",
        "\n",
        "\n",
        "if __name__ == \"__main__\":\n",
        "\n",
        "    points = [[0, 0], [0, 1], [1, 1], [1, 0]]\n",
        "    if isConvex(points):\n",
        "        print(\"El poligono ES convexo\")\n",
        "    else:\n",
        "        print(\"El poligono NO ES convexo\")\n"
      ],
      "execution_count": 2,
      "outputs": [
        {
          "output_type": "stream",
          "text": [
            "El poligono ES convexo\n"
          ],
          "name": "stdout"
        }
      ]
    },
    {
      "cell_type": "markdown",
      "metadata": {
        "id": "d2qXf1Il6gTU"
      },
      "source": [
        "# Pregunta 4\n",
        "\n",
        "Create a program to construct a uniform quadratic B-spline\n",
        "using the control points (−1, 0), (1, 4), (3, −2), and (4, 3) and show\n",
        "the parametric equation of the curve. Find the point on the curve at\n",
        "t = 3.5."
      ]
    },
    {
      "cell_type": "code",
      "metadata": {
        "id": "nWk8kTKR7bV_"
      },
      "source": [
        "import numpy as np\n",
        "import sympy as sp\n",
        "import matplotlib.pyplot as plt\n",
        "from sympy.utilities.lambdify import lambdify"
      ],
      "execution_count": 3,
      "outputs": []
    },
    {
      "cell_type": "code",
      "metadata": {
        "id": "3HXC43Tw6u8h"
      },
      "source": [
        "P = np.array([[-1, 0], [1, 4], [3.0, -2], [4, 3]])\n",
        "\n",
        "# B_Spline\n",
        "def N(i, k, t, t_val, T):\n",
        "    \"\"\"\n",
        "    Parameters\n",
        "    ----------\n",
        "    k: b-spline order, degre of polynomial is k - 1\n",
        "    T: vector node\n",
        "    \"\"\"\n",
        "    if k == 1:\n",
        "        return 1 if T[i] <= t_val < T[i+1] else 0\n",
        "    else:\n",
        "        return (t - T[i])/(T[i+k-1] - T[i])*N(i, k-1, t, t_val, T) + (T[i+k] - t)/(T[i+k] - T[i+1])*N(i+1, k-1, t, t_val, T)\n",
        "\n",
        "def uniform_b_spline(t, t_val, k, T, points):\n",
        "    sk = 0\n",
        "    n = len(points)\n",
        "    for i in range(n):\n",
        "        print(f\"N_{i},{k - 1} =\", sp.expand(N(i, k, t, t_val, T)))\n",
        "        sk += points[i]*N(i, k, t, t_val, T)\n",
        "    return sk\n",
        "    \n",
        "sp.init_printing(use_unicode=True)\n",
        "t = sp.symbols('t')"
      ],
      "execution_count": 4,
      "outputs": []
    },
    {
      "cell_type": "code",
      "metadata": {
        "id": "UqFg1_0S3eqs",
        "colab": {
          "base_uri": "https://localhost:8080/"
        },
        "outputId": "427aadf3-3c57-420b-f1d7-583869f4582b"
      },
      "source": [
        "k = 3          # degree 2, order 3\n",
        "n = len(P)     # 4 points\n",
        "T = [i for i in range(n + k)]\n",
        "\n",
        "print(\"Two intervals\\n-------------\")\n",
        "for t_val in range(k - 1, n):\n",
        "    print(f\"t in [{t_val}, {t_val + 1}]\")\n",
        "\n",
        "    b_spline = uniform_b_spline(t, t_val, k, T, P)\n",
        "    x = sp.expand(b_spline[0])\n",
        "    y = sp.expand(b_spline[1])\n",
        "\n",
        "    print(\"Ecuación paramétrica\")\n",
        "    print(\"x(t) =\", x)\n",
        "    print(\"y(t) =\", y)\n",
        "    print()"
      ],
      "execution_count": 5,
      "outputs": [
        {
          "output_type": "stream",
          "text": [
            "Two intervals\n",
            "-------------\n",
            "t in [2, 3]\n",
            "N_0,2 = t**2/2 - 3*t + 9/2\n",
            "N_1,2 = -t**2 + 5*t - 11/2\n",
            "N_2,2 = t**2/2 - 2*t + 2\n",
            "N_3,2 = 0\n",
            "Ecuación paramétrica\n",
            "x(t) = 2.0*t - 4.0\n",
            "y(t) = -5.0*t**2 + 24.0*t - 26.0\n",
            "\n",
            "t in [3, 4]\n",
            "N_0,2 = 0\n",
            "N_1,2 = t**2/2 - 4*t + 8\n",
            "N_2,2 = -t**2 + 7*t - 23/2\n",
            "N_3,2 = t**2/2 - 3*t + 9/2\n",
            "Ecuación paramétrica\n",
            "x(t) = -0.5*t**2 + 5.0*t - 8.5\n",
            "y(t) = 5.5*t**2 - 39.0*t + 68.5\n",
            "\n"
          ],
          "name": "stdout"
        }
      ]
    },
    {
      "cell_type": "code",
      "metadata": {
        "colab": {
          "base_uri": "https://localhost:8080/",
          "height": 281
        },
        "id": "aFYDHvju7mm4",
        "outputId": "d8dda029-feaa-4878-adb2-d9b5935a8751"
      },
      "source": [
        "t1 = np.linspace(2, 3, 100)\n",
        "x1 = [2.0*t - 4.0 for t in t1]\n",
        "y1 = [-5.0*t**2 + 24.0*t - 26.0 for t in t1]\n",
        "\n",
        "t2 = np.linspace(3, 4, 100)\n",
        "x2 = [-0.5*t**2 + 5.0*t - 8.5 for t in t2]\n",
        "y2 = [5.5*t**2 - 39.0*t + 68.5 for t in t2]\n",
        "\n",
        "plt.title('B-Spline cuadrático')\n",
        "plt.plot(x1, y1)\n",
        "plt.plot(x2, y2)\n",
        "plt.scatter(P[:, 0], P[:, 1])\n",
        "plt.plot(P[:, 0], P[:, 1], '-', c='gray', alpha=0.4)\n",
        "plt.axis('scaled')\n",
        "plt.grid(True)\n",
        "plt.show()"
      ],
      "execution_count": 6,
      "outputs": [
        {
          "output_type": "display_data",
          "data": {
            "image/png": "[encoded data removed]",
            "text/plain": [
              "<Figure size 432x288 with 1 Axes>"
            ]
          },
          "metadata": {
            "tags": [],
            "needs_background": "light"
          }
        }
      ]
    },
    {
      "cell_type": "code",
      "metadata": {
        "colab": {
          "base_uri": "https://localhost:8080/"
        },
        "id": "hoAajmkF-PeQ",
        "outputId": "4f4b7a5c-4a39-4971-c3ff-fe4d99dfae9b"
      },
      "source": [
        "t_eval = 3.5\n",
        "x_eval = -0.5*t_eval**2 + 5.0*t_eval - 8.5\n",
        "y_eval = 5.5*t_eval**2 - 39.0*t_eval + 68.5\n",
        "\n",
        "print(f\"En t = {t_eval}, las coordenadas son ({x_eval}, {y_eval})\")"
      ],
      "execution_count": 7,
      "outputs": [
        {
          "output_type": "stream",
          "text": [
            "En t = 3.5, las coordenadas son (2.875, -0.625)\n"
          ],
          "name": "stdout"
        }
      ]
    },
    {
      "cell_type": "markdown",
      "metadata": {
        "id": "hIQR22jB-LLS"
      },
      "source": [
        "# Pregunta 5\n"
      ]
    },
    {
      "cell_type": "code",
      "metadata": {
        "id": "YxsnBZJRAMzf"
      },
      "source": [
        "def deBoor(k, x, t, c, p):\n",
        "    \"\"\"\n",
        "    Evaluates S(x).\n",
        "\n",
        "    Args\n",
        "    ----\n",
        "    k: index of knot interval that contains x\n",
        "    x: position\n",
        "    t: array of knot positions, needs to be padded as described above\n",
        "    c: array of control points\n",
        "    p: degree of B-spline\n",
        "    \"\"\"\n",
        "    d = [c[j + k - p] for j in range(0, p+1)]\n",
        "  \n",
        "\n",
        "    for r in range(1, p+1):\n",
        "        for j in range(p, r-1, -1):\n",
        "            #print(j, end=\"  \")\n",
        "            alpha = (x - t[j+k-p]) / (t[j+1+k-r] - t[j+k-p])\n",
        "            '''\n",
        "            print(d[j-1 + 1], end=\" \")\n",
        "            print(d[j + 1] )\n",
        "            print(d)\n",
        "            '''\n",
        "            d[j] = (1.0 - alpha) * d[j-1] + alpha * d[j]\n",
        "            #print(d)\n",
        "\n",
        "    return d[p]"
      ],
      "execution_count": 75,
      "outputs": []
    },
    {
      "cell_type": "code",
      "metadata": {
        "colab": {
          "base_uri": "https://localhost:8080/"
        },
        "id": "EJ5rGT3DE2N2",
        "outputId": "c778cf5e-6150-4b11-8db1-715c3a4b8b65"
      },
      "source": [
        "knots = np.array([0, 0.1, 0.2, 0.3, 0.4, 0.5, 0.6, 0.7, 0.8, 0.9, 1.0])\n",
        "P = np.array([[-1, 0], [1, 4], [3.0, -2], [4, 3]])\n",
        "\n",
        "\n",
        "print(deBoor(3, 3.5, knots, P[::-1], 3))"
      ],
      "execution_count": 76,
      "outputs": [
        {
          "output_type": "stream",
          "text": [
            "[   4904.16666667 -109040.16666667]\n"
          ],
          "name": "stdout"
        }
      ]
    },
    {
      "cell_type": "code",
      "metadata": {
        "id": "FDjTgeI75C0t"
      },
      "source": [
        "'''\n",
        "def boor(i, k=2, t, array):\n",
        "    arrayAux = array.copy()\n",
        "    idx = array.shape[0] - 1\n",
        "\n",
        "    for j in range(k+1):\n",
        "      for \n",
        "        alpha = (t - i) / (k - j + 1)\n",
        "        arrayAux[i] = (1- alpha)*array[i-j] + alpha*array[i]\n",
        "\n",
        "    return arrayAux[i]\n",
        "'''"
      ],
      "execution_count": null,
      "outputs": []
    }
  ]
}