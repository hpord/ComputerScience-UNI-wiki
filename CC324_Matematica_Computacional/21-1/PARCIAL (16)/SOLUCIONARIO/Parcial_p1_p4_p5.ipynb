{
  "nbformat": 4,
  "nbformat_minor": 0,
  "metadata": {
    "colab": {
      "name": "2021-1__midterm__solution__q1-q4-q5.ipynb",
      "provenance": [],
      "collapsed_sections": []
    },
    "kernelspec": {
      "name": "python3",
      "display_name": "Python 3"
    }
  },
  "cells": [
    {
      "cell_type": "markdown",
      "metadata": {
        "id": "cb1gLKXB1T50"
      },
      "source": [
        "# Midterm - solution"
      ]
    },
    {
      "cell_type": "markdown",
      "metadata": {
        "id": "45-S-TRmNmtj"
      },
      "source": [
        "First of all, let us import the libraries we are going to work with"
      ]
    },
    {
      "cell_type": "code",
      "metadata": {
        "id": "FDoSojyFNrzh"
      },
      "source": [
        "import numpy as np\n",
        "import sympy as sp\n",
        "import matplotlib.pyplot as plt\n",
        "from sympy.utilities.lambdify import lambdify"
      ],
      "execution_count": null,
      "outputs": []
    },
    {
      "cell_type": "markdown",
      "metadata": {
        "id": "DoFPxJa4THnP"
      },
      "source": [
        "## Question 1"
      ]
    },
    {
      "cell_type": "code",
      "metadata": {
        "colab": {
          "base_uri": "https://localhost:8080/"
        },
        "id": "XLMfzBO_q9nY",
        "outputId": "0c1b42ec-c782-43e8-eb77-fb36591edfd4"
      },
      "source": [
        "def convex():\n",
        "    # points\n",
        "    P1 = [0,0]\n",
        "    P2 = [3,0]\n",
        "    P3 = [1,1]\n",
        "    P4 = [0,3]\n",
        "    \n",
        "    # vectors\n",
        "    V1 = [P2[0] - P1[0] , P2[1] - P1[1]]\n",
        "    V2 = [P3[0] - P2[0] , P3[1] - P2[1]] \n",
        "    V3 = [P4[0] - P3[0] , P4[1] - P3[1]] \n",
        "    V4 = [P1[0] - P4[0] , P1[1] - P4[1]] \n",
        "\n",
        "    # normals\n",
        "    N1 = [ V1[1] , -V1[0] ]\n",
        "    N2 = [ V2[1] , -V2[0] ]\n",
        "    N3 = [ V3[1] , -V3[0] ]\n",
        "    N4 = [ V4[1] , -V4[0] ]\n",
        "\n",
        "    # scalar products of vectores and normals\n",
        "    R1 = N1[0]*V2[0] + N1[1]*V2[1]\n",
        "    R2 = N2[0]*V3[0] + N2[1]*V3[1]\n",
        "    R3 = N3[0]*V4[0] + N3[1]*V4[1]\n",
        "    R4 = N4[0]*V1[0] + N4[1]*V1[1]\n",
        "\n",
        "    if (R1 < 0 or R2 < 0 or R3 < 0 or R4 < 0): print(\"It is not convex.\")\n",
        "    else:\n",
        "        print(\"It is convex.\")\n",
        "                                           \n",
        "convex()"
      ],
      "execution_count": null,
      "outputs": [
        {
          "output_type": "stream",
          "text": [
            "It is not convex.\n"
          ],
          "name": "stdout"
        }
      ]
    },
    {
      "cell_type": "markdown",
      "metadata": {
        "id": "J_01lJM3q44D"
      },
      "source": [
        "## Question 4"
      ]
    },
    {
      "cell_type": "code",
      "metadata": {
        "id": "SUE-Hhj6R9c6",
        "colab": {
          "base_uri": "https://localhost:8080/",
          "height": 394
        },
        "outputId": "8046238e-6dbc-4c1a-86f0-bb0fcda91fa1"
      },
      "source": [
        "P = np.array([[-1, 0], [1, 4], [3, -2], [4, 3]])\n",
        "\n",
        "# B_Spline\n",
        "def N(i, k, t, t_val, T):\n",
        "    \"\"\"\n",
        "    Parameters\n",
        "    ----------\n",
        "    k: b-spline order, degre of polynomial is k - 1\n",
        "    T: vector node\n",
        "    \"\"\"\n",
        "    if k == 1:\n",
        "        return 1 if T[i] <= t_val < T[i+1] else 0\n",
        "    else:\n",
        "        return (t - T[i])/(T[i+k-1] - T[i])*N(i, k-1, t, t_val, T) + (T[i+k] - t)/(T[i+k] - T[i+1])*N(i+1, k-1, t, t_val, T)\n",
        "\n",
        "def uniform_b_spline(t, t_val, k, T, points):\n",
        "    sk = 0\n",
        "    n = len(points)\n",
        "    for i in range(n):\n",
        "        print(f\"N_{i},{k - 1} =\", sp.expand(N(i, k, t, t_val, T)))\n",
        "        sk += points[i]*N(i, k, t, t_val, T)\n",
        "    return sk\n",
        "    \n",
        "sp.init_printing(use_unicode=True)\n",
        "t = sp.symbols('t')\n",
        "\n",
        "k = 3          # degree 2, order 3\n",
        "n = len(P)     # 4 points\n",
        "T = [i for i in range(n + k)]\n",
        "\n",
        "print(\"Two intervals\\n-------------\")\n",
        "for t_val in range(k - 1, n):\n",
        "    print(f\"t in [{t_val}, {t_val + 1}]\")\n",
        "\n",
        "    b_spline = uniform_b_spline(t, t_val, k, T, P)\n",
        "    x = sp.expand(b_spline[0])\n",
        "    y = sp.expand(b_spline[1])\n",
        "\n",
        "    print(\"Parametric equation\")\n",
        "    print(\"x(t) =\", x)\n",
        "    print(\"y(t) =\", y)\n",
        "    print()\n",
        "\n",
        "print(\"The curve evaluated at 3.5 is\")\n",
        "(x.subs(t,3.5), y.subs(t,3.5))"
      ],
      "execution_count": null,
      "outputs": [
        {
          "output_type": "stream",
          "text": [
            "Two intervals\n",
            "-------------\n",
            "t in [2, 3]\n",
            "N_0,2 = t**2/2 - 3*t + 9/2\n",
            "N_1,2 = -t**2 + 5*t - 11/2\n",
            "N_2,2 = t**2/2 - 2*t + 2\n",
            "N_3,2 = 0\n",
            "Parametric equation\n",
            "x(t) = 2*t - 4\n",
            "y(t) = -5*t**2 + 24*t - 26\n",
            "\n",
            "t in [3, 4]\n",
            "N_0,2 = 0\n",
            "N_1,2 = t**2/2 - 4*t + 8\n",
            "N_2,2 = -t**2 + 7*t - 23/2\n",
            "N_3,2 = t**2/2 - 3*t + 9/2\n",
            "Parametric equation\n",
            "x(t) = -t**2/2 + 5*t - 17/2\n",
            "y(t) = 11*t**2/2 - 39*t + 137/2\n",
            "\n",
            "The curve evaluated at 3.5 is\n"
          ],
          "name": "stdout"
        },
        {
          "output_type": "execute_result",
          "data": {
            "image/png": "[encoded data removed]",
            "text/latex": "$\\displaystyle \\left( 2.875, \\  -0.625\\right)$",
            "text/plain": [
              "(2.875, -0.625)"
            ]
          },
          "metadata": {
            "tags": []
          },
          "execution_count": 31
        }
      ]
    },
    {
      "cell_type": "markdown",
      "metadata": {
        "id": "b0MlXTl72rRi"
      },
      "source": [
        "## Question 5 - taken from Clisman Moreno' solution"
      ]
    },
    {
      "cell_type": "code",
      "metadata": {
        "colab": {
          "base_uri": "https://localhost:8080/",
          "height": 37
        },
        "id": "puEApdFQ6vsI",
        "outputId": "b7aeea5e-f6e3-4f34-acd7-a119bdef7f6c"
      },
      "source": [
        "k = 2\n",
        "puntos_control = np.array([[-1, 0], [1, 4], [3, -2], [4, 3]])\n",
        "P = []\n",
        "\n",
        "for i in range(4):\n",
        "    P.append([puntos_control[i], None, None])\n",
        "\n",
        "\n",
        "def producto(coeficiente, punto):\n",
        "    result = [None] * len(punto)\n",
        "    for i in range(len(punto)):\n",
        "        result[i] = coeficiente * punto[i]\n",
        "    return result\n",
        "\n",
        "def suma_de_puntos(punto1, punto2):\n",
        "    result = [None] * len(punto1)\n",
        "    for i in range(len(punto1)):\n",
        "        result[i] = punto1[i] + punto2[i]\n",
        "    return result\n",
        "\n",
        "def AlgoritmodeBoor(i, j, t):\n",
        "    if i - 1 >= 0 and j - 1 >= 0 and P[i - 1][j - 1] is None:\n",
        "        P[i - 1][j - 1] = AlgoritmodeBoor(i - 1, j - 1, t)\n",
        "    if i >= 0 and j - 1 >= 0 and P[i][j - 1] is None:\n",
        "        P[i][j - 1] = AlgoritmodeBoor(i, j - 1, t)\n",
        "\n",
        "    return suma_de_puntos(producto((1-(t-i)/(k-j+1)), P[i-1][j-1]), producto(((t-i)/(k-j+1)), P[i][j-1]))\n",
        "\n",
        "AlgoritmodeBoor(3, 2, 3.5)"
      ],
      "execution_count": null,
      "outputs": [
        {
          "output_type": "execute_result",
          "data": {
            "image/png": "[encoded data removed]",
            "text/latex": "$\\displaystyle \\left[ 2.875, \\  -0.625\\right]$",
            "text/plain": [
              "[2.875, -0.625]"
            ]
          },
          "metadata": {
            "tags": []
          },
          "execution_count": 29
        }
      ]
    }
  ]
}