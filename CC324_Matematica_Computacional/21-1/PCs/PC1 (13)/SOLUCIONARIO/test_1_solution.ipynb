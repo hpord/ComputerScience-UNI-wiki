{
  "nbformat": 4,
  "nbformat_minor": 0,
  "metadata": {
    "colab": {
      "name": "test_1_solution.ipynb",
      "provenance": []
    },
    "kernelspec": {
      "name": "python3",
      "display_name": "Python 3"
    }
  },
  "cells": [
    {
      "cell_type": "markdown",
      "metadata": {
        "id": "cb1gLKXB1T50"
      },
      "source": [
        "# Test 1 - solution"
      ]
    },
    {
      "cell_type": "markdown",
      "metadata": {
        "id": "DoFPxJa4THnP"
      },
      "source": [
        "## Question 1 - taken from Fidel Callupe's solution"
      ]
    },
    {
      "cell_type": "code",
      "metadata": {
        "id": "SUE-Hhj6R9c6",
        "colab": {
          "base_uri": "https://localhost:8080/"
        },
        "outputId": "1c40c9c9-4931-4b95-fc9e-b14e061a86a2"
      },
      "source": [
        "#programa que simula jugar michi PC vs jugador\n",
        "from random import randrange\n",
        "#muestra tablero de juego\n",
        "def DisplayBoard(board):\n",
        "    for p in range(0,len(board),3):\n",
        "        print(\"+-----+-----+-----+\")\n",
        "        print(\"|  \" + str(board[p]) + \\\n",
        "                 \"  |  \" + str(board[p + 1]) + \\\n",
        "                \"  |  \" + str(board[p + 2]) + \"  |  \")\n",
        "    print(\"+-----+-----+-----+\")\n",
        "\n",
        "#permite realizar el movimiento del jugador\n",
        "def EnterMove(board):\n",
        "    a = MakeListOfFreeFields(board)\n",
        "    posicion = int(input(\"Ingrese posicion para O:\"))\n",
        "    #consideramos las posibles opciones a elegir por el jugador correctas e incorrectas\n",
        "    while(posicion < 1 or posicion > 9):\n",
        "        print(\"ingrese numero valido\")\n",
        "        posicion = int(input(\"Ingrese posicion para O:\"))      \n",
        "    while True:\n",
        "        if posicion in a:\n",
        "            board[posicion - 1] = 'O'\n",
        "            break\n",
        "        else:\n",
        "            print(\"ingrese numero valido\")\n",
        "            posicion = int(input(\"Ingrese posicion para O:\"))\n",
        "    DisplayBoard(board)\n",
        "\n",
        "#verifica la situacion de casillas del tablero de juegos\n",
        "def MakeListOfFreeFields(board):\n",
        "    x = []\n",
        "    for p in range(len(board)):\n",
        "            if board[p] != 'O' and board[p]!='X':\n",
        "                x.append(board[p])\n",
        "    return x\n",
        "\n",
        "#verifica si hay victoria\n",
        "def VictoryFor(board, sign):\n",
        "    v = [[1, 2, 3],[4, 5, 6],[7, 8, 9],[1, 4, 7],[2, 5, 8],[3, 6, 9],[1, 5, 9],[3, 5, 7]]\n",
        "    for p in range(len(v)):\n",
        "        p_1 = v[p][0] - 1 \n",
        "        p_2 = v[p][1] - 1\n",
        "        p_3 = v[p][2] - 1\n",
        "        if (str(board[p_1]) == sign) and (str(board[p_2]) == sign) and (str(board[p_3]) == sign):\n",
        "            return True\n",
        "    return False\n",
        "\n",
        "#dibuja el movimiento de la PC\n",
        "def DrawMove(board):\n",
        "    a = MakeListOfFreeFields(board)\n",
        "    posicion = randrange(1,10)\n",
        "    while True:\n",
        "        if posicion in a:\n",
        "            board[posicion - 1] = 'X'\n",
        "            break\n",
        "        else:\n",
        "            posicion = randrange(1, 10)\n",
        "    DisplayBoard(board)\n",
        "\n",
        "#inicia la accion del juego\n",
        "#como la PC empieza, la posicion 5 tiene la X en la lista\n",
        "board = [1, 2, 3, 4, 'X', 6, 7, 8, 9]\n",
        "#dibujamos la tabla de juego inicial\n",
        "DisplayBoard(board)\n",
        "\n",
        "while True:\n",
        "    num_j = 0 #medira el numero de jugadas, que no supere los espacios disponibles\n",
        "    for p in range(len(board)):\n",
        "        if board[p] == 'O' or board[p] =='X':\n",
        "            num_j +=1\n",
        "    #en caso de que se produzca un empate\n",
        "    if num_j == len(board):\n",
        "        print(\"Empate\")\n",
        "        break\n",
        "    #empieza el juego\n",
        "    EnterMove(board)\n",
        "\n",
        "    #en caso de que gane el jugador\n",
        "    if VictoryFor(board, 'O'):\n",
        "        print(\"Ganaste\")\n",
        "        break\n",
        "\n",
        "    #movimiento de la PC\n",
        "    DrawMove(board)\n",
        "\n",
        "    #en caso de que gane la PC\n",
        "    if VictoryFor(board, 'X'):\n",
        "        print(\"Perdiste\")\n",
        "        break"
      ],
      "execution_count": null,
      "outputs": [
        {
          "output_type": "stream",
          "text": [
            "+-----+-----+-----+\n",
            "|  1  |  2  |  3  |  \n",
            "+-----+-----+-----+\n",
            "|  4  |  X  |  6  |  \n",
            "+-----+-----+-----+\n",
            "|  7  |  8  |  9  |  \n",
            "+-----+-----+-----+\n",
            "Ingrese posicion para O:9\n",
            "+-----+-----+-----+\n",
            "|  1  |  2  |  3  |  \n",
            "+-----+-----+-----+\n",
            "|  4  |  X  |  6  |  \n",
            "+-----+-----+-----+\n",
            "|  7  |  8  |  O  |  \n",
            "+-----+-----+-----+\n",
            "+-----+-----+-----+\n",
            "|  1  |  2  |  3  |  \n",
            "+-----+-----+-----+\n",
            "|  4  |  X  |  6  |  \n",
            "+-----+-----+-----+\n",
            "|  7  |  X  |  O  |  \n",
            "+-----+-----+-----+\n",
            "Ingrese posicion para O:2\n",
            "+-----+-----+-----+\n",
            "|  1  |  O  |  3  |  \n",
            "+-----+-----+-----+\n",
            "|  4  |  X  |  6  |  \n",
            "+-----+-----+-----+\n",
            "|  7  |  X  |  O  |  \n",
            "+-----+-----+-----+\n",
            "+-----+-----+-----+\n",
            "|  1  |  O  |  X  |  \n",
            "+-----+-----+-----+\n",
            "|  4  |  X  |  6  |  \n",
            "+-----+-----+-----+\n",
            "|  7  |  X  |  O  |  \n",
            "+-----+-----+-----+\n",
            "Ingrese posicion para O:1\n",
            "+-----+-----+-----+\n",
            "|  O  |  O  |  X  |  \n",
            "+-----+-----+-----+\n",
            "|  4  |  X  |  6  |  \n",
            "+-----+-----+-----+\n",
            "|  7  |  X  |  O  |  \n",
            "+-----+-----+-----+\n",
            "+-----+-----+-----+\n",
            "|  O  |  O  |  X  |  \n",
            "+-----+-----+-----+\n",
            "|  4  |  X  |  X  |  \n",
            "+-----+-----+-----+\n",
            "|  7  |  X  |  O  |  \n",
            "+-----+-----+-----+\n",
            "Ingrese posicion para O:4\n",
            "+-----+-----+-----+\n",
            "|  O  |  O  |  X  |  \n",
            "+-----+-----+-----+\n",
            "|  O  |  X  |  X  |  \n",
            "+-----+-----+-----+\n",
            "|  7  |  X  |  O  |  \n",
            "+-----+-----+-----+\n",
            "+-----+-----+-----+\n",
            "|  O  |  O  |  X  |  \n",
            "+-----+-----+-----+\n",
            "|  O  |  X  |  X  |  \n",
            "+-----+-----+-----+\n",
            "|  X  |  X  |  O  |  \n",
            "+-----+-----+-----+\n",
            "Perdiste\n"
          ],
          "name": "stdout"
        }
      ]
    },
    {
      "cell_type": "markdown",
      "metadata": {
        "id": "XonandfpFgUO"
      },
      "source": [
        "## Question 2"
      ]
    },
    {
      "cell_type": "code",
      "metadata": {
        "colab": {
          "base_uri": "https://localhost:8080/"
        },
        "id": "NVMG0rsFVXCY",
        "outputId": "a50970cc-5712-4184-d52c-cbfe64099550"
      },
      "source": [
        "zero = [1,1,1,1,0,1,1,0,1,1,0,1,1,1,1]\n",
        "one = [0,0,1,0,0,1,0,0,1,0,0,1,0,0,1]\n",
        "two = [1,1,1,0,0,1,1,1,1,1,0,0,1,1,1]\n",
        "three = [1,1,1,0,0,1,1,1,1,0,0,1,1,1,1]\n",
        "four = [1,0,1,1,0,1,1,1,1,0,0,1,0,0,1]\n",
        "five = [1,1,1,1,0,0,1,1,1,0,0,1,1,1,1]\n",
        "six = [1,1,1,1,0,0,1,1,1,1,0,1,1,1,1]\n",
        "seven = [1,1,1,0,0,1,0,0,1,0,0,1,0,0,1]\n",
        "eigth = [1,1,1,1,0,1,1,1,1,1,0,1,1,1,1]\n",
        "nine = [1,1,1,1,0,1,1,1,1,0,0,1,1,1,1]\n",
        "\n",
        "dic = {0:zero, 1:one, 2:two, 3:three, 4:four, 5:five, 6:six, 7:seven, 8:eigth, 9:nine}\n",
        "\n",
        "def seven_segment_display(num):\n",
        "    for i in range(5):\n",
        "        for n in num:\n",
        "            j = i*3\n",
        "            for _ in range(3):\n",
        "                l = dic[int(n)]\n",
        "                if l[j] == 1:\n",
        "                    print('#', end = '')\n",
        "                else:\n",
        "                    print(' ', end = '')\n",
        "                j += 1\n",
        "            print(' ', end='')\n",
        "        print('')\n",
        "\n",
        "num = input(\"Enter a non negative integer: \")\n",
        "seven_segment_display(num)"
      ],
      "execution_count": null,
      "outputs": [
        {
          "output_type": "stream",
          "text": [
            "Enter a non negative integer: 0123456789\n",
            "###   # ### ### # # ### ### ### ### ### \n",
            "# #   #   #   # # # #   #     # # # # # \n",
            "# #   # ### ### ### ### ###   # ### ### \n",
            "# #   # #     #   #   # # #   # # #   # \n",
            "###   # ### ###   # ### ###   # ### ### \n"
          ],
          "name": "stdout"
        }
      ]
    },
    {
      "cell_type": "markdown",
      "metadata": {
        "id": "fwT51OjUYb2X"
      },
      "source": [
        "## Question 4 (to be display in midterm exam)"
      ]
    }
  ]
}