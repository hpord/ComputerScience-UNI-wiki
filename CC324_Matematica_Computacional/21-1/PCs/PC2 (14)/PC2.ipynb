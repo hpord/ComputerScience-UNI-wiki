{
  "nbformat": 4,
  "nbformat_minor": 0,
  "metadata": {
    "colab": {
      "name": "PC2.ipynb",
      "provenance": []
    },
    "kernelspec": {
      "name": "python3",
      "display_name": "Python 3"
    }
  },
  "cells": [
    {
      "cell_type": "markdown",
      "metadata": {
        "id": "cb1gLKXB1T50"
      },
      "source": [
        "# Cristhian Wiki\n"
      ]
    },
    {
      "cell_type": "code",
      "metadata": {
        "id": "FDoSojyFNrzh"
      },
      "source": [
        "import numpy as np\n",
        "import sympy as sp\n",
        "import matplotlib.pyplot as plt\n",
        "from sympy.utilities.lambdify import lambdify\n",
        "from scipy.special import comb"
      ],
      "execution_count": 6,
      "outputs": []
    },
    {
      "cell_type": "markdown",
      "metadata": {
        "id": "WMCxRzpi1jaA"
      },
      "source": [
        "## Pregunta 4"
      ]
    },
    {
      "cell_type": "code",
      "metadata": {
        "id": "VYx_FvzP1wuv",
        "colab": {
          "base_uri": "https://localhost:8080/"
        },
        "outputId": "4ba2359f-997c-4a1b-ea3d-90db11184c8b"
      },
      "source": [
        "xi = np.array([-3, -1, 2, 4])\n",
        "fi = np.array([0, 4, 3, 1])\n",
        "\n",
        "# PROCEDIMIENTO\n",
        "n = len(xi)\n",
        "x = sp.Symbol('x')\n",
        "# Polinomio\n",
        "polinomio = 0\n",
        "for i in range(0, n, 1):\n",
        "    # Termino de Lagrange\n",
        "    termino = 1\n",
        "    for j  in range(0, n, 1):\n",
        "        if (j!=i):\n",
        "            termino = termino*(x-xi[j])/(xi[i]-xi[j])\n",
        "\n",
        "\n",
        "    print(\"El L(\",i,\") es :\", termino)\n",
        "    polinomio = polinomio + termino*fi[i]\n",
        "# Expande el polinomio\n",
        "px = polinomio.expand()\n",
        "\n",
        "# para evaluacion numérica\n",
        "pxn = sp.lambdify(x, polinomio)\n",
        "\n",
        "# Puntos para la gráfica\n",
        "a = np.min(xi)\n",
        "b = np.max(xi)\n",
        "\n",
        "muestras = 100\n",
        "xi_p = np.linspace(a, b, muestras)\n",
        "fi_p = pxn(xi_p)\n",
        "\n",
        "# Salida\n",
        "print('\\nPolinomio de Lagrange, expresiones:')\n",
        "print(polinomio)\n",
        "print()\n",
        "print('Polinomio de Lagrange: ')\n",
        "print(px)\n"
      ],
      "execution_count": 2,
      "outputs": [
        {
          "output_type": "stream",
          "text": [
            "El L( 0 ) es : (-x/2 - 1/2)*(x - 4)*(x - 2)/35\n",
            "El L( 1 ) es : (x/2 + 3/2)*(x - 4)*(x - 2)/15\n",
            "El L( 2 ) es : -(x/5 + 3/5)*(x - 4)*(x + 1)/6\n",
            "El L( 3 ) es : (x/7 + 3/7)*(x - 2)*(x + 1)/10\n",
            "\n",
            "Polinomio de Lagrange, expresiones:\n",
            "(x/7 + 3/7)*(x - 2)*(x + 1)/10 - (x/5 + 3/5)*(x - 4)*(x + 1)/2 + 4*(x/2 + 3/2)*(x - 4)*(x - 2)/15\n",
            "\n",
            "Polinomio de Lagrange: \n",
            "x**3/21 - 13*x**2/35 - 11*x/105 + 151/35\n"
          ],
          "name": "stdout"
        }
      ]
    },
    {
      "cell_type": "code",
      "metadata": {
        "id": "As10Tyem2LRO",
        "colab": {
          "base_uri": "https://localhost:8080/",
          "height": 281
        },
        "outputId": "309147d7-5f6e-4400-b64c-670a908ecab7"
      },
      "source": [
        "# Gráfica\n",
        "plt.title('Interpolación Lagrange')\n",
        "plt.plot(xi, fi, 'o', label = 'Puntos')\n",
        "plt.plot(xi_p, fi_p, label = 'Polinomio')\n",
        "plt.legend()\n",
        "plt.show()"
      ],
      "execution_count": 3,
      "outputs": [
        {
          "output_type": "display_data",
          "data": {
            "image/png": "[encoded data removed]",
            "text/plain": [
              "<Figure size 432x288 with 1 Axes>"
            ]
          },
          "metadata": {
            "tags": [],
            "needs_background": "light"
          }
        }
      ]
    },
    {
      "cell_type": "markdown",
      "metadata": {
        "id": "DoFPxJa4THnP"
      },
      "source": [
        "## Pregunta 5"
      ]
    },
    {
      "cell_type": "code",
      "metadata": {
        "id": "SUE-Hhj6R9c6"
      },
      "source": [
        "# Bezier curve\n",
        "def cubic_bezier(t, p):\n",
        "    return (1 - t)**3*p[0] + 3*(1 - t)**2*t*p[1] + 3*(1 - t)*t**2*p[2] + t**3*p[3]\n",
        "\n",
        "  "
      ],
      "execution_count": 31,
      "outputs": []
    },
    {
      "cell_type": "markdown",
      "metadata": {
        "id": "n_az_mvTN2-Q"
      },
      "source": [
        "### (a) Parametric description $P(t)$ of the cubic Bezier "
      ]
    },
    {
      "cell_type": "code",
      "metadata": {
        "colab": {
          "base_uri": "https://localhost:8080/",
          "height": 56
        },
        "id": "YQC0vbau7zeA",
        "outputId": "ece0009a-636c-4e0b-e879-e1270e774e86"
      },
      "source": [
        "sp.init_printing(use_unicode=True)\n",
        "P = np.array([[-3, 0], [-1, 4], [2, 3], [4, 1]])\n",
        "t = sp.symbols('t')\n",
        "p_t = cubic_bezier(t, P)\n",
        "print(\"x(t) =\") \n",
        "sp.expand(p_t[0])"
      ],
      "execution_count": 33,
      "outputs": [
        {
          "output_type": "stream",
          "text": [
            "x(t) =\n"
          ],
          "name": "stdout"
        },
        {
          "output_type": "execute_result",
          "data": {
            "image/png": "[encoded data removed]",
            "text/latex": "$\\displaystyle - 2 t^{3} + 3 t^{2} + 6 t - 3$",
            "text/plain": [
              "     3      2          \n",
              "- 2⋅t  + 3⋅t  + 6⋅t - 3"
            ]
          },
          "metadata": {
            "tags": []
          },
          "execution_count": 33
        }
      ]
    },
    {
      "cell_type": "code",
      "metadata": {
        "colab": {
          "base_uri": "https://localhost:8080/",
          "height": 56
        },
        "id": "Vzbds1HX72Z3",
        "outputId": "6d791232-1b86-4390-9a4a-298be4c90054"
      },
      "source": [
        "print(\"y(t) =\")\n",
        "sp.expand(p_t[1])"
      ],
      "execution_count": 34,
      "outputs": [
        {
          "output_type": "stream",
          "text": [
            "y(t) =\n"
          ],
          "name": "stdout"
        },
        {
          "output_type": "execute_result",
          "data": {
            "image/png": "[encoded data removed]",
            "text/latex": "$\\displaystyle 4 t^{3} - 15 t^{2} + 12 t$",
            "text/plain": [
              "   3       2       \n",
              "4⋅t  - 15⋅t  + 12⋅t"
            ]
          },
          "metadata": {
            "tags": []
          },
          "execution_count": 34
        }
      ]
    },
    {
      "cell_type": "code",
      "metadata": {
        "colab": {
          "base_uri": "https://localhost:8080/",
          "height": 255
        },
        "id": "-GASbGdnPIyV",
        "outputId": "31fda62a-7bb6-4fdd-e807-49f0ad707088"
      },
      "source": [
        "t_interval = np.linspace(0, 1, 100)\n",
        "x_interval = [-2.0*t**3 + 3.0*t**2 + 6.0*t - 3.0 for t in t_interval]\n",
        "y_interval = [4.0*t**3 - 15.0*t**2 + 12.0*t for t in t_interval]\n",
        "\n",
        "plt.title(\"Bezier curve\")\n",
        "plt.plot(P[:,0], P[:,1], c='lightgray')\n",
        "plt.plot(x_interval, y_interval)\n",
        "plt.scatter(P[:,0], P[:,1])\n",
        "plt.axis(\"scaled\")\n",
        "plt.grid(True)\n",
        "plt.show()"
      ],
      "execution_count": 35,
      "outputs": [
        {
          "output_type": "display_data",
          "data": {
            "image/png": "[encoded data removed]",
            "text/plain": [
              "<Figure size 432x288 with 1 Axes>"
            ]
          },
          "metadata": {
            "tags": [],
            "needs_background": "light"
          }
        }
      ]
    },
    {
      "cell_type": "markdown",
      "metadata": {
        "id": "Owz7k97LYbRx"
      },
      "source": [
        "### (b) Verify by finding the derivatives that ...."
      ]
    },
    {
      "cell_type": "code",
      "metadata": {
        "colab": {
          "base_uri": "https://localhost:8080/"
        },
        "id": "kxx7PRk7XT_J",
        "outputId": "3594085a-7f7c-4da3-a2d5-97bdc15ca872"
      },
      "source": [
        "# First derivative\n",
        "print(\"Primera derivada\\n\")\n",
        "print(\"t in [0, 1]\")\n",
        "\n",
        "# The method sp.diff converts a sympy object to python function \n",
        "dx5_c = sp.diff(-2.0*t**3 + 3.0*t**2 + 6.0*t - 3.0)\n",
        "dy5_c = sp.diff(4.0*t**3 - 15.0*t**2 + 12.0*t)\n",
        "\n",
        "print(\"x1'(t) =\", dx5_c)\n",
        "print(\"y1'(t) =\", dy5_c)\n",
        "print()\n",
        "print(\"x1'(0) =\", lambdify(t, dx5_c)(0))\n",
        "print(\"y1'(0) =\", lambdify(t, dy5_c)(0))\n",
        "print()\n",
        "print(\"x1'(1) =\", lambdify(t, dx5_c)(1))\n",
        "print(\"y1'(1) =\", lambdify(t, dy5_c)(1))"
      ],
      "execution_count": 39,
      "outputs": [
        {
          "output_type": "stream",
          "text": [
            "Primera derivada\n",
            "\n",
            "t in [0, 1]\n",
            "x1'(t) = -6.0*t**2 + 6.0*t + 6.0\n",
            "y1'(t) = 12.0*t**2 - 30.0*t + 12.0\n",
            "\n",
            "x1'(0) = 6.0\n",
            "y1'(0) = 12.0\n",
            "\n",
            "x1'(1) = 6.0\n",
            "y1'(1) = -6.0\n"
          ],
          "name": "stdout"
        }
      ]
    },
    {
      "cell_type": "markdown",
      "metadata": {
        "id": "acywk3_DFHGg"
      },
      "source": [
        "### (c) Verify that the slopes match the slopes of the line segments $P_0P_1$ and $P_2P_3$."
      ]
    },
    {
      "cell_type": "code",
      "metadata": {
        "colab": {
          "base_uri": "https://localhost:8080/"
        },
        "id": "e3BIQXpwFWLm",
        "outputId": "6725d7ac-dc67-442c-d6d8-a0ca25d05169"
      },
      "source": [
        "print(f\"Pendiente P0-P1: {(P[1][1] - P[0][1])/(P[1][0] - P[0][0])}\")\n",
        "print()\n",
        "print(f\"Pendiente P2-P3: {(P[3][1] - P[2][1])/(P[3][0] - P[2][0])}\")"
      ],
      "execution_count": 38,
      "outputs": [
        {
          "output_type": "stream",
          "text": [
            "Pendiente P0-P1: 2.0\n",
            "\n",
            "Pendiente P2-P3: -1.0\n"
          ],
          "name": "stdout"
        }
      ]
    },
    {
      "cell_type": "markdown",
      "metadata": {
        "id": "Cm7tXIKBGI-e"
      },
      "source": [
        "Se puede observar que:\n",
        "* 16 / 2 = 2 , lo que coincide con la pendiente P0-P1\n",
        "\n",
        "* -6 / 6 = -1, lo que coincide con la pendiente P2-P3"
      ]
    },
    {
      "cell_type": "code",
      "metadata": {
        "id": "hc68z8_PF9Ef"
      },
      "source": [
        ""
      ],
      "execution_count": null,
      "outputs": []
    }
  ]
}