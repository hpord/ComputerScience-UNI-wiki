{
  "nbformat": 4,
  "nbformat_minor": 0,
  "metadata": {
    "colab": {
      "name": "test_2__solution__q4-q5.ipynb",
      "provenance": [],
      "collapsed_sections": []
    },
    "kernelspec": {
      "name": "python3",
      "display_name": "Python 3"
    },
    "language_info": {
      "name": "python"
    }
  },
  "cells": [
    {
      "cell_type": "markdown",
      "metadata": {
        "id": "85DoVKm8_T_0"
      },
      "source": [
        "# Test 2 - solution"
      ]
    },
    {
      "cell_type": "code",
      "metadata": {
        "id": "R-7UR7cNAVgV"
      },
      "source": [
        "import numpy as np\n",
        "import sympy as sym\n",
        "import matplotlib.pyplot as plt"
      ],
      "execution_count": null,
      "outputs": []
    },
    {
      "cell_type": "markdown",
      "metadata": {
        "id": "Qa4CkBL4KTSs"
      },
      "source": [
        "## Question 3 (to be display in midterm exam)"
      ]
    },
    {
      "cell_type": "markdown",
      "metadata": {
        "id": "y7Iysclw_WLO"
      },
      "source": [
        "## Question 4"
      ]
    },
    {
      "cell_type": "code",
      "metadata": {
        "colab": {
          "base_uri": "https://localhost:8080/",
          "height": 55
        },
        "id": "Eyg9mB15_aqT",
        "outputId": "c37c4a1c-13cb-4f3c-84e3-b554a9ebdd89"
      },
      "source": [
        "P = np.array([[-3,0],[-1,4],[2,3],[4,1]])\n",
        "\n",
        "def interporla_Lagrange(t,p):\n",
        "  return (-1/6)*(t-1)*(t-2)*(t-3)*p[0] + (1/2)*t*(t-2)*(t-3)*p[1] - (1/2)*t*(t-1)*(t-3)*p[2] + (1/6)*t*(t-1)*(t-2)*p[3]\n",
        "\n",
        "sym.init_printing(use_unicode=True)\n",
        "t = sym.symbols('t')\n",
        "\n",
        "p_t = interporla_Lagrange(t, P)\n",
        "print(\"x(t) =\")\n",
        "sym.expand(p_t[0])"
      ],
      "execution_count": null,
      "outputs": [
        {
          "output_type": "stream",
          "text": [
            "x(t) =\n"
          ],
          "name": "stdout"
        },
        {
          "output_type": "execute_result",
          "data": {
            "image/png": "[encoded data removed]",
            "text/latex": "$\\displaystyle - 0.333333333333333 t^{3} + 1.5 t^{2} + 0.833333333333333 t - 3.0$",
            "text/plain": [
              "                     3        2                            \n",
              "- 0.333333333333333⋅t  + 1.5⋅t  + 0.833333333333333⋅t - 3.0"
            ]
          },
          "metadata": {
            "tags": []
          },
          "execution_count": 2
        }
      ]
    },
    {
      "cell_type": "code",
      "metadata": {
        "colab": {
          "base_uri": "https://localhost:8080/",
          "height": 55
        },
        "id": "Ysxx8xkTAfrN",
        "outputId": "f9aa0666-fc52-4cb0-dab8-efb938f3caa5"
      },
      "source": [
        "print(\"y(t) =\")\n",
        "sym.expand(p_t[1])"
      ],
      "execution_count": null,
      "outputs": [
        {
          "output_type": "stream",
          "text": [
            "y(t) =\n"
          ],
          "name": "stdout"
        },
        {
          "output_type": "execute_result",
          "data": {
            "image/png": "[encoded data removed]",
            "text/latex": "$\\displaystyle 0.666666666666667 t^{3} - 4.5 t^{2} + 7.83333333333333 t$",
            "text/plain": [
              "                   3        2                     \n",
              "0.666666666666667⋅t  - 4.5⋅t  + 7.83333333333333⋅t"
            ]
          },
          "metadata": {
            "tags": []
          },
          "execution_count": 3
        }
      ]
    },
    {
      "cell_type": "markdown",
      "metadata": {
        "id": "BUj5v2fiAx8p"
      },
      "source": [
        "## Question 5"
      ]
    },
    {
      "cell_type": "markdown",
      "metadata": {
        "id": "tzCu0rG2A1mo"
      },
      "source": [
        "### (a)"
      ]
    },
    {
      "cell_type": "code",
      "metadata": {
        "colab": {
          "base_uri": "https://localhost:8080/",
          "height": 55
        },
        "id": "ObAz7-YwA3rc",
        "outputId": "43aa536f-1f51-44a8-fb99-e7a3b76f1ed0"
      },
      "source": [
        "def Bezier_Cubica(t, p):\n",
        "    return (1 - t)**3*p[0] + 3*(1 - t)**2*t*p[1] + 3*(1 - t)*t**2*p[2] + t**3*p[3]\n",
        "\n",
        "p_t = Bezier_Cubica(t, P)\n",
        "print(\"x(t) =\")\n",
        "x = sym.expand(p_t[0])\n",
        "x"
      ],
      "execution_count": null,
      "outputs": [
        {
          "output_type": "stream",
          "text": [
            "x(t) =\n"
          ],
          "name": "stdout"
        },
        {
          "output_type": "execute_result",
          "data": {
            "image/png": "[encoded data removed]",
            "text/latex": "$\\displaystyle - 2 t^{3} + 3 t^{2} + 6 t - 3$",
            "text/plain": [
              "     3      2          \n",
              "- 2⋅t  + 3⋅t  + 6⋅t - 3"
            ]
          },
          "metadata": {
            "tags": []
          },
          "execution_count": 4
        }
      ]
    },
    {
      "cell_type": "code",
      "metadata": {
        "colab": {
          "base_uri": "https://localhost:8080/",
          "height": 55
        },
        "id": "WbO05IBtBEe0",
        "outputId": "805cd9a4-fa4d-48a0-f7b9-37ed7de66744"
      },
      "source": [
        "print(\"y(t) =\")\n",
        "y = sym.expand(p_t[1])\n",
        "y"
      ],
      "execution_count": null,
      "outputs": [
        {
          "output_type": "stream",
          "text": [
            "y(t) =\n"
          ],
          "name": "stdout"
        },
        {
          "output_type": "execute_result",
          "data": {
            "image/png": "[encoded data removed]",
            "text/latex": "$\\displaystyle 4 t^{3} - 15 t^{2} + 12 t$",
            "text/plain": [
              "   3       2       \n",
              "4⋅t  - 15⋅t  + 12⋅t"
            ]
          },
          "metadata": {
            "tags": []
          },
          "execution_count": 5
        }
      ]
    },
    {
      "cell_type": "markdown",
      "metadata": {
        "id": "LFd4cKuHBHqA"
      },
      "source": [
        "### (b)"
      ]
    },
    {
      "cell_type": "markdown",
      "metadata": {
        "id": "e-_xqFTOGWeN"
      },
      "source": [
        "The slope at the first control point is"
      ]
    },
    {
      "cell_type": "code",
      "metadata": {
        "colab": {
          "base_uri": "https://localhost:8080/",
          "height": 37
        },
        "id": "FMzP-qTkF8fy",
        "outputId": "8f4d9452-6f58-4f19-c21f-51fa6afe20a3"
      },
      "source": [
        "(y.diff(t)/x.diff(t)).subs(t,0)"
      ],
      "execution_count": null,
      "outputs": [
        {
          "output_type": "execute_result",
          "data": {
            "image/png": "[encoded data removed]",
            "text/latex": "$\\displaystyle 2$",
            "text/plain": [
              "2"
            ]
          },
          "metadata": {
            "tags": []
          },
          "execution_count": 6
        }
      ]
    },
    {
      "cell_type": "markdown",
      "metadata": {
        "id": "1_eCDKcZGcmd"
      },
      "source": [
        "The slope at the last control point is"
      ]
    },
    {
      "cell_type": "code",
      "metadata": {
        "colab": {
          "base_uri": "https://localhost:8080/",
          "height": 37
        },
        "id": "zZG6jgiEGfLY",
        "outputId": "35b47f22-7637-428d-9274-9921867de998"
      },
      "source": [
        "(y.diff(t)/x.diff(t)).subs(t,1)"
      ],
      "execution_count": null,
      "outputs": [
        {
          "output_type": "execute_result",
          "data": {
            "image/png": "[encoded data removed]",
            "text/latex": "$\\displaystyle -1$",
            "text/plain": [
              "-1"
            ]
          },
          "metadata": {
            "tags": []
          },
          "execution_count": 7
        }
      ]
    },
    {
      "cell_type": "markdown",
      "metadata": {
        "id": "ZGt83Gu3Gidh"
      },
      "source": [
        "### (c)"
      ]
    },
    {
      "cell_type": "markdown",
      "metadata": {
        "id": "DhbqDKTBGk81"
      },
      "source": [
        "The slope of the line segment $P_0P_1$ is"
      ]
    },
    {
      "cell_type": "code",
      "metadata": {
        "colab": {
          "base_uri": "https://localhost:8080/",
          "height": 37
        },
        "id": "0sJxv4QQEtxT",
        "outputId": "b4f9fc2e-7acb-4a7c-8335-d8f6439e17be"
      },
      "source": [
        "(P[1,1]-P[0,1])/(P[1,0]-P[0,0])"
      ],
      "execution_count": null,
      "outputs": [
        {
          "output_type": "execute_result",
          "data": {
            "image/png": "[encoded data removed]",
            "text/latex": "$\\displaystyle 2.0$",
            "text/plain": [
              "2.0"
            ]
          },
          "metadata": {
            "tags": []
          },
          "execution_count": 8
        }
      ]
    },
    {
      "cell_type": "markdown",
      "metadata": {
        "id": "f4ZOrJ65Gutn"
      },
      "source": [
        "The slope of the line segment $P_3P_2$ is"
      ]
    },
    {
      "cell_type": "code",
      "metadata": {
        "colab": {
          "base_uri": "https://localhost:8080/",
          "height": 37
        },
        "id": "B0Qs-vuiFwQq",
        "outputId": "6d165879-42fd-4cf3-a319-9b0464f95a7d"
      },
      "source": [
        "(P[2,1]-P[3,1])/(P[2,0]-P[3,0])"
      ],
      "execution_count": null,
      "outputs": [
        {
          "output_type": "execute_result",
          "data": {
            "image/png": "[encoded data removed]",
            "text/latex": "$\\displaystyle -1.0$",
            "text/plain": [
              "-1.0"
            ]
          },
          "metadata": {
            "tags": []
          },
          "execution_count": 9
        }
      ]
    },
    {
      "cell_type": "markdown",
      "metadata": {
        "id": "PKaCnu31G1hi"
      },
      "source": [
        "Then, by virtue of the previous item, the assertion follows."
      ]
    }
  ]
}