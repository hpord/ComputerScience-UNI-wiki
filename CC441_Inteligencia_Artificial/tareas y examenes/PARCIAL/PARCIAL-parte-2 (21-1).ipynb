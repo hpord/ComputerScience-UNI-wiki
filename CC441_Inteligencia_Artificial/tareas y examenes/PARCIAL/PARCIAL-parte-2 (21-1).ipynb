{
  "nbformat": 4,
  "nbformat_minor": 0,
  "metadata": {
    "kernelspec": {
      "display_name": "Python 3",
      "language": "python",
      "name": "python3"
    },
    "language_info": {
      "codemirror_mode": {
        "name": "ipython",
        "version": 3
      },
      "file_extension": ".py",
      "mimetype": "text/x-python",
      "name": "python",
      "nbconvert_exporter": "python",
      "pygments_lexer": "ipython3",
      "version": "3.7.10"
    },
    "colab": {
      "name": "ExamenParcial1-CC421.ipynb",
      "provenance": []
    }
  },
  "cells": [
    {
      "cell_type": "markdown",
      "metadata": {
        "id": "R7X6bmzYCf9X"
      },
      "source": [
        "## Curso de Inteligencia Artificial\n",
        "\n",
        "### Notas\n",
        "\n",
        "* Entregar un cuaderno jupyter o colab con todas tus respuestas. No se aceptan otro tipo de formato.\n",
        "* **En esta tarea se evaluará todas las preguntas y no se asignará puntaje a preguntas incompletas**.\n",
        "* Responde las preguntas en orden.\n",
        "* Incluir imágenes o formas de verificar la ejecución de los programas planteados. Explica toda tus respuestas.\n",
        "* Puedes usar tus apuntes y consultar fuentes externas. Las únicas restricciones son que el trabajo sea completamente individual (no puedes comunicarte con tus compañeros ni con ninguna otra persona) y que cualquier material que tomes de otra fuente debe ser debidamente citado (de lo contrario será considerado plagio).\n",
        "\n",
        "* **Tiempo estimado de resolución: 90 minutos**.\n",
        "\n",
        "* Luego de cada pregunta se indica en comentarios las secciones donde debes incluir tu código. *No modifiques el código fuera de esas secciones*.\n",
        "\n",
        "```\n",
        "### Inicio de tu código\n",
        "...Tu código\n",
        "### Fin de tu código\n",
        "```\n",
        "\n",
        "En algunos lugares de la prueba hay algunas sentencias `assert` que emitirán un mensaje de error si tu solución tiene algún error particular. Cuando tu error sea correcto no emitirán ningún mensaje.\n",
        "\n",
        "Usaremos una versión del conjunto de datos *Lending Club Data*.\n",
        "\n",
        "LendingClub es una compañía de préstamos *peer-to-peer* que conecta directamente a los prestatarios con potenciales prestamistas/inversionistas.\n",
        "\n",
        "Construirás un modelo de clasificación para predecir si un préstamo realizado a través del LendingClub tiene probabilidad de no ser pagado *(default)*."
      ]
    },
    {
      "cell_type": "code",
      "metadata": {
        "colab": {
          "base_uri": "https://localhost:8080/"
        },
        "id": "UOPzKOFiCf9f",
        "outputId": "0bb4dea7-7eb0-43de-94b7-b922691e265b"
      },
      "source": [
        "import numpy as np\n",
        "import pandas as pd\n",
        "import matplotlib.pyplot as plt\n",
        "%matplotlib inline\n",
        "\n",
        "loans = pd.read_csv(\"lending-club-data.csv\")"
      ],
      "execution_count": 1,
      "outputs": [
        {
          "output_type": "stream",
          "text": [
            "/usr/local/lib/python3.7/dist-packages/IPython/core/interactiveshell.py:2718: DtypeWarning: Columns (19,47) have mixed types.Specify dtype option on import or set low_memory=False.\n",
            "  interactivity=interactivity, compiler=compiler, result=result)\n"
          ],
          "name": "stderr"
        }
      ]
    },
    {
      "cell_type": "markdown",
      "metadata": {
        "id": "LyyveyS3Cf9h"
      },
      "source": [
        "### Identificar las columnas\n",
        "\n",
        "**Pregunta 2.1 (0.5 puntos):** Carga en una variable de nombre `all_columns` el nombre de todas las columnas del conjunto de datos."
      ]
    },
    {
      "cell_type": "code",
      "metadata": {
        "colab": {
          "base_uri": "https://localhost:8080/"
        },
        "id": "rUiBwEGuCf9i",
        "outputId": "b04c61bb-925f-4c30-be32-4f73f0bdb4a9"
      },
      "source": [
        "### Inicio de tu código\n",
        "all_columns = loans.columns\n",
        "### Fin de tu código\n",
        "print('El nombre de todas las columnas es: \\n', all_columns)"
      ],
      "execution_count": 2,
      "outputs": [
        {
          "output_type": "stream",
          "text": [
            "El nombre de todas las columnas es: \n",
            " Index(['id', 'member_id', 'loan_amnt', 'funded_amnt', 'funded_amnt_inv',\n",
            "       'term', 'int_rate', 'installment', 'grade', 'sub_grade', 'emp_title',\n",
            "       'emp_length', 'home_ownership', 'annual_inc', 'is_inc_v', 'issue_d',\n",
            "       'loan_status', 'pymnt_plan', 'url', 'desc', 'purpose', 'title',\n",
            "       'zip_code', 'addr_state', 'dti', 'delinq_2yrs', 'earliest_cr_line',\n",
            "       'inq_last_6mths', 'mths_since_last_delinq', 'mths_since_last_record',\n",
            "       'open_acc', 'pub_rec', 'revol_bal', 'revol_util', 'total_acc',\n",
            "       'initial_list_status', 'out_prncp', 'out_prncp_inv', 'total_pymnt',\n",
            "       'total_pymnt_inv', 'total_rec_prncp', 'total_rec_int',\n",
            "       'total_rec_late_fee', 'recoveries', 'collection_recovery_fee',\n",
            "       'last_pymnt_d', 'last_pymnt_amnt', 'next_pymnt_d', 'last_credit_pull_d',\n",
            "       'collections_12_mths_ex_med', 'mths_since_last_major_derog',\n",
            "       'policy_code', 'not_compliant', 'status', 'inactive_loans', 'bad_loans',\n",
            "       'emp_length_num', 'grade_num', 'sub_grade_num', 'delinq_2yrs_zero',\n",
            "       'pub_rec_zero', 'collections_12_mths_zero', 'short_emp',\n",
            "       'payment_inc_ratio', 'final_d', 'last_delinq_none', 'last_record_none',\n",
            "       'last_major_derog_none'],\n",
            "      dtype='object')\n"
          ],
          "name": "stdout"
        }
      ]
    },
    {
      "cell_type": "markdown",
      "metadata": {
        "id": "kCzzbCcnCf9j"
      },
      "source": [
        "### Preprocesar la columna etiqueta\n",
        "\n",
        "**Pregunta 2.2 (1 punto):** La columna que contiene la información que queremos predecir se llama `bad_loans`. En esta columna, el valor 1 significa un préstamo riesgoso (malo), mientras que 0 significa un préstamos seguro.\n",
        "\n",
        "Para hacer el trabajo más intuitivo, crea una nueva columna `safe_loans` con el siguiente valor:\n",
        "\n",
        "* +1 si es un préstamo seguro\n",
        "* -1 si es un préstamos riesgoso (malo)"
      ]
    },
    {
      "cell_type": "code",
      "metadata": {
        "colab": {
          "base_uri": "https://localhost:8080/"
        },
        "id": "YngZpiU8Cf9k",
        "outputId": "52138cdd-24ec-4197-d2b1-944573786458"
      },
      "source": [
        "print('Distribución de la columna bad_loans:')\n",
        "print(loans['bad_loans'].value_counts())\n",
        "\n",
        "### Inicio de tu código\n",
        "loans['safe_loans'] = loans['bad_loans'].apply(lambda x: 1 if x == 0 else -1)\n",
        "### Fin de tu código\n",
        "\n",
        "print('\\nDistribución de la nueva columna safe_loans:')\n",
        "print(loans['safe_loans'].value_counts())\n"
      ],
      "execution_count": 15,
      "outputs": [
        {
          "output_type": "stream",
          "text": [
            "Distribución de la columna bad_loans:\n",
            "0    99457\n",
            "1    23150\n",
            "Name: bad_loans, dtype: int64\n",
            "\n",
            "Distribución de la nueva columna safe_loans:\n",
            " 1    99457\n",
            "-1    23150\n",
            "Name: safe_loans, dtype: int64\n"
          ],
          "name": "stdout"
        }
      ]
    },
    {
      "cell_type": "markdown",
      "metadata": {
        "id": "SW3_RUKBCf9l"
      },
      "source": [
        "### Porcentaje de las clases a predecir\n",
        "\n",
        "**Pregunta 2.3 (1 punto):** Calcula la distribución en **porcentaje** de préstamos malos y préstamos buenos (debe sumar 100%)."
      ]
    },
    {
      "cell_type": "code",
      "metadata": {
        "colab": {
          "base_uri": "https://localhost:8080/"
        },
        "id": "rW_t7UyACf9m",
        "outputId": "62e6cf90-83f3-4546-b22b-26b5333467e6"
      },
      "source": [
        "### Inicio de tu código\n",
        "good, bad = loans['safe_loans'].value_counts()\n",
        "print('La distribución en porcentaje de préstamos malos y préstamos buenos es:')\n",
        "print(f\"Malos = {(bad/(bad+good))*100} %\")\n",
        "print(f\"Buenos = {(good/(bad+good))*100} %\")\n",
        "### Fin de tu código"
      ],
      "execution_count": 16,
      "outputs": [
        {
          "output_type": "stream",
          "text": [
            "La distribución en porcentaje de préstamos malos y préstamos buenos es:\n",
            "Malos = 18.881466800427383 %\n",
            "Buenos = 81.11853319957262 %\n"
          ],
          "name": "stdout"
        }
      ]
    },
    {
      "cell_type": "markdown",
      "metadata": {
        "id": "V_OMCGOiCf9n"
      },
      "source": [
        "### Balanceo de datos con submuestreo\n",
        "\n",
        "**Pregunta 2.4 (1 punto):** Una manera de abordar conjuntos de datos desbalanceados es con un submuestreo *(undersampling)* de la clase más grande hasta que la distribución de clases sea mitad y mitad. Vamos a realizar un submuestreo de los préstamos buenos para balancear nuestro conjunto de datos. Ello significa que vamos a descartar muchas observaciones. \n",
        "\n",
        "* Pon en una variable `risky_loans` todos y solo los préstamos malos.\n",
        "* Pon en una variable `safe_loans` una muestra aleatoria de préstamos buenos **del mismo tamaño** que la cantidad de préstamos malos. (Usa [pandas.DataFrame.sample](https://pandas.pydata.org/pandas-docs/stable/generated/pandas.DataFrame.sample.html) con el atributo `random_state=0`)\n",
        "* Junta en una nueva variable `loans_balanced` los dos grupos anteriores: `risky_loans` y `safe_loans` (Puedes usar [pandas.concat](https://pandas.pydata.org/pandas-docs/stable/generated/pandas.concat.html))"
      ]
    },
    {
      "cell_type": "code",
      "metadata": {
        "colab": {
          "base_uri": "https://localhost:8080/"
        },
        "id": "_HqqRhlUCf9o",
        "outputId": "43f2c0fc-09a8-408f-9d99-49abc2267bed"
      },
      "source": [
        "### Inicio de tu código\n",
        "risky_loans = loans[lambda x: x['safe_loans'] == -1]\n",
        "risky_loans = risky_loans['safe_loans']\n",
        "safe_loans = loans['safe_loans'][loans['safe_loans'] == 1].sample(n=bad, random_state=0)\n",
        "loans_balanced = pd.concat([risky_loans, safe_loans])\n",
        "### Fin de tu código\n",
        "\n",
        "assert len(loans_balanced) == 2 * len(risky_loans), 'loans_balanced quedar con el doble de observaciones que risky_loans'\n",
        "print('\\nDistribución de la columna safe_loans en loans_balanced:')\n",
        "print(loans_balanced.value_counts())"
      ],
      "execution_count": 52,
      "outputs": [
        {
          "output_type": "stream",
          "text": [
            "\n",
            "Distribución de la columna safe_loans en loans_balanced:\n",
            "-1    23150\n",
            " 1    23150\n",
            "Name: safe_loans, dtype: int64\n"
          ],
          "name": "stdout"
        }
      ]
    },
    {
      "cell_type": "markdown",
      "metadata": {
        "id": "T_ToMlgxCf9p"
      },
      "source": [
        "### Selección de características\n",
        "\n",
        "**Pregunta 2.5 (0.5 puntos):** Asigna a una variable `loans_subset` sólo el siguiente subconjunto de características que son las que usaremos:\n",
        "\n",
        "```python\n",
        "features = ['grade',                     # grade of the loan\n",
        "            'sub_grade',                 # sub-grade of the loan\n",
        "            'short_emp',                 # one year or less of employment\n",
        "            'emp_length_num',            # number of years of employment\n",
        "            'home_ownership',            # home_ownership status: own, mortgage or rent\n",
        "            'dti',                       # debt to income ratio\n",
        "            'purpose',                   # the purpose of the loan\n",
        "            'term',                      # the term of the loan\n",
        "            'last_delinq_none',          # has borrower had a delinquincy\n",
        "            'last_major_derog_none',     # has borrower had 90 day or worse rating\n",
        "            'revol_util',                # percent of available credit being used\n",
        "            'total_rec_late_fee',        # total late fees received to day\n",
        "           ]\n",
        "```\n",
        "\n",
        "Asimismo, asigna a una variable **`y`** los valores de la columna `safe_loans`"
      ]
    },
    {
      "cell_type": "code",
      "metadata": {
        "id": "NoEqqLctCf9r"
      },
      "source": [
        "### Inicio de tu código\n",
        "features = ['grade',                     # grade of the loan\n",
        "            'sub_grade',                 # sub-grade of the loan\n",
        "            'short_emp',                 # one year or less of employment\n",
        "            'emp_length_num',            # number of years of employment\n",
        "            'home_ownership',            # home_ownership status: own, mortgage or rent\n",
        "            'dti',                       # debt to income ratio\n",
        "            'purpose',                   # the purpose of the loan\n",
        "            'term',                      # the term of the loan\n",
        "            'last_delinq_none',          # has borrower had a delinquincy\n",
        "            'last_major_derog_none',     # has borrower had 90 day or worse rating\n",
        "            'revol_util',                # percent of available credit being used\n",
        "            'total_rec_late_fee',        # total late fees received to day\n",
        "           ]\n",
        "\n",
        "idx = list(loans_balanced.index)\n",
        "\n",
        "loans_subset = loans[features].iloc[idx]\n",
        "y = loans_balanced.to_numpy()\n",
        "### Fin de tu código\n",
        "\n",
        "assert len(loans_subset) == len(loans_balanced), 'asegúrate de usar loans_balanced'\n",
        "assert 'safe_loans' not in loans_subset.columns.values, 'safe_loans no debe estar en loans_subset'\n",
        "assert len(loans_subset) == len(y), 'loans_subset y Y no tienen el mismo número de observaciones'"
      ],
      "execution_count": 71,
      "outputs": []
    },
    {
      "cell_type": "markdown",
      "metadata": {
        "id": "xsq5OLyrCf9s"
      },
      "source": [
        "### Conversión de variables categóricas\n",
        "\n",
        "**Pregunta 2.6 (0.5 puntos):** Usando [pandas.get_dummies](https://pandas.pydata.org/pandas-docs/stable/generated/pandas.get_dummies.html) convierte las variables categóricas de `loans_subset` en variables numéricas *one-hot*. Guarda el nuevo conjunto de datos en `X`."
      ]
    },
    {
      "cell_type": "code",
      "metadata": {
        "id": "SyaOEXn3Cf9t"
      },
      "source": [
        "### Inicio de tu código\n",
        "X = pd.get_dummies(loans_subset)\n",
        "### Fin de tu código\n",
        "\n",
        "assert len(X) == len(y), 'X y Y no tienen el mismo número de observaciones'\n",
        "assert len(X.columns.values) == 67"
      ],
      "execution_count": 72,
      "outputs": []
    },
    {
      "cell_type": "markdown",
      "metadata": {
        "id": "e7bSr-RjCf9t"
      },
      "source": [
        "### Separación del conjunto de datos\n",
        "\n",
        "**Pregunta 2.7 (0.5 puntos):** Empleando `sklearn.model_selection.train_test_split` separa el conjunto de datos en un 90% para entrenamiento y validación (`X_trainval`, `y_trainval`), y 10% para pruebas (`X_test`, `y_test`).\n",
        "\n",
        "Luego separa (`X_trainval`, `y_trainval`) en un 80% para entrenamiento (`X_train`, `y_train`) y 20% para validación (`X_val`, `y_val`)"
      ]
    },
    {
      "cell_type": "code",
      "metadata": {
        "id": "7c0Hmc7HCf9u"
      },
      "source": [
        "from sklearn.model_selection import train_test_split\n",
        "\n",
        "### Inicio de tu código\n",
        "X_trainval, X_test, y_trainval, y_test = train_test_split(X, y, test_size=0.10, random_state=42)\n",
        "X_train, X_val, y_train, y_val = train_test_split(X_trainval, y_trainval, test_size=0.20, random_state=42)\n",
        "### Fin de tu código\n",
        "\n",
        "assert X_trainval.shape[0] == y_trainval.shape[0], 'Dimensiones incorrectas'\n",
        "assert X_train.shape[0] == y_train.shape[0], 'Dimensiones incorrectas'\n",
        "assert X_val.shape[0] == y_val.shape[0], 'Dimensiones incorrectas'\n",
        "assert X_test.shape[0] == y_test.shape[0], 'Dimensiones incorrectas'"
      ],
      "execution_count": 74,
      "outputs": []
    },
    {
      "cell_type": "markdown",
      "metadata": {
        "id": "YcG30q3YCf9v"
      },
      "source": [
        "### Selección del mejor modelo\n",
        "\n",
        "**Pregunta 2.8 (5 puntos):** Entrena un modelo SVM, un modelo de ensamble (RandomForests, AdaBoost u otro), y un tercer modelo de tu elección, con las siguientes indicaciones:\n",
        "\n",
        "* Se calificará el uso apropiado de la normalización (Scaling) de datos\n",
        "* Se calificará el uso apropiado de una técnica para la selección de los mejores parámetros de cada modelo (p.ej. búsqueda en grilla o búsqueda aleatoria)\n",
        "* Reporta para cada modelo la exactitud (accuracy), precisión y exhaustividad (recall) **en el conjunto de pruebas.**\n",
        "* Discute finalmente los resultados que hayas obtenido. (Min. 3 líneas)."
      ]
    },
    {
      "cell_type": "code",
      "metadata": {
        "id": "O8hVYFM-Cf9v"
      },
      "source": [
        "## Normalización de datos\n",
        "\n",
        "### Inicio de tu código\n",
        "from sklearn import preprocessing\n",
        "scaler = preprocessing.StandardScaler().fit(X_train)\n",
        "X_train_scaled = scaler.transform(X_train)\n",
        "### Fin de tu código"
      ],
      "execution_count": 75,
      "outputs": []
    },
    {
      "cell_type": "code",
      "metadata": {
        "colab": {
          "base_uri": "https://localhost:8080/"
        },
        "id": "xVWs3zPJCf9w",
        "outputId": "346cafdd-6073-4f92-c5a3-3e407be665a7"
      },
      "source": [
        "## Modelo SVM: ajuste y selección de mejores parámetros, evaluación en el conjunto de pruebas\n",
        "\n",
        "### Inicio de tu código\n",
        "from sklearn.pipeline import make_pipeline\n",
        "from sklearn.preprocessing import StandardScaler\n",
        "from sklearn import svm\n",
        "\n",
        "pipe = make_pipeline(StandardScaler(), svm.SVC(max_iter=10))\n",
        "pipe.fit(X_train, y_train)\n",
        "pipe.score(X_test, y_test)\n",
        "### Fin de tu código"
      ],
      "execution_count": 77,
      "outputs": [
        {
          "output_type": "stream",
          "text": [
            "/usr/local/lib/python3.7/dist-packages/sklearn/svm/_base.py:231: ConvergenceWarning: Solver terminated early (max_iter=10).  Consider pre-processing your data with StandardScaler or MinMaxScaler.\n",
            "  % self.max_iter, ConvergenceWarning)\n"
          ],
          "name": "stderr"
        },
        {
          "output_type": "execute_result",
          "data": {
            "text/plain": [
              "0.5069114470842333"
            ]
          },
          "metadata": {
            "tags": []
          },
          "execution_count": 77
        }
      ]
    },
    {
      "cell_type": "code",
      "metadata": {
        "colab": {
          "base_uri": "https://localhost:8080/"
        },
        "id": "v2IhCRmQCf9x",
        "outputId": "1031bad6-a0e2-45d4-efe7-1b50219b33b8"
      },
      "source": [
        "## Modelo de ensamble: ajuste y selección de mejores parámetros, evaluación en el conjunto de pruebas\n",
        "\n",
        "### Inicio de tu código\n",
        "from sklearn.ensemble import BaggingClassifier\n",
        "clf = BaggingClassifier(base_estimator=svm.SVC(max_iter=15), n_estimators=10, random_state=0).fit(X_train_scaled, y_train)\n",
        "X_test_scaled = scaler.transform(X_test)\n",
        "clf.score(X_test_scaled, y_test)\n",
        "### Fin de tu código"
      ],
      "execution_count": 81,
      "outputs": [
        {
          "output_type": "stream",
          "text": [
            "/usr/local/lib/python3.7/dist-packages/sklearn/svm/_base.py:231: ConvergenceWarning: Solver terminated early (max_iter=15).  Consider pre-processing your data with StandardScaler or MinMaxScaler.\n",
            "  % self.max_iter, ConvergenceWarning)\n",
            "/usr/local/lib/python3.7/dist-packages/sklearn/svm/_base.py:231: ConvergenceWarning: Solver terminated early (max_iter=15).  Consider pre-processing your data with StandardScaler or MinMaxScaler.\n",
            "  % self.max_iter, ConvergenceWarning)\n",
            "/usr/local/lib/python3.7/dist-packages/sklearn/svm/_base.py:231: ConvergenceWarning: Solver terminated early (max_iter=15).  Consider pre-processing your data with StandardScaler or MinMaxScaler.\n",
            "  % self.max_iter, ConvergenceWarning)\n",
            "/usr/local/lib/python3.7/dist-packages/sklearn/svm/_base.py:231: ConvergenceWarning: Solver terminated early (max_iter=15).  Consider pre-processing your data with StandardScaler or MinMaxScaler.\n",
            "  % self.max_iter, ConvergenceWarning)\n",
            "/usr/local/lib/python3.7/dist-packages/sklearn/svm/_base.py:231: ConvergenceWarning: Solver terminated early (max_iter=15).  Consider pre-processing your data with StandardScaler or MinMaxScaler.\n",
            "  % self.max_iter, ConvergenceWarning)\n",
            "/usr/local/lib/python3.7/dist-packages/sklearn/svm/_base.py:231: ConvergenceWarning: Solver terminated early (max_iter=15).  Consider pre-processing your data with StandardScaler or MinMaxScaler.\n",
            "  % self.max_iter, ConvergenceWarning)\n",
            "/usr/local/lib/python3.7/dist-packages/sklearn/svm/_base.py:231: ConvergenceWarning: Solver terminated early (max_iter=15).  Consider pre-processing your data with StandardScaler or MinMaxScaler.\n",
            "  % self.max_iter, ConvergenceWarning)\n",
            "/usr/local/lib/python3.7/dist-packages/sklearn/svm/_base.py:231: ConvergenceWarning: Solver terminated early (max_iter=15).  Consider pre-processing your data with StandardScaler or MinMaxScaler.\n",
            "  % self.max_iter, ConvergenceWarning)\n",
            "/usr/local/lib/python3.7/dist-packages/sklearn/svm/_base.py:231: ConvergenceWarning: Solver terminated early (max_iter=15).  Consider pre-processing your data with StandardScaler or MinMaxScaler.\n",
            "  % self.max_iter, ConvergenceWarning)\n",
            "/usr/local/lib/python3.7/dist-packages/sklearn/svm/_base.py:231: ConvergenceWarning: Solver terminated early (max_iter=15).  Consider pre-processing your data with StandardScaler or MinMaxScaler.\n",
            "  % self.max_iter, ConvergenceWarning)\n"
          ],
          "name": "stderr"
        },
        {
          "output_type": "execute_result",
          "data": {
            "text/plain": [
              "0.5041036717062635"
            ]
          },
          "metadata": {
            "tags": []
          },
          "execution_count": 81
        }
      ]
    },
    {
      "cell_type": "code",
      "metadata": {
        "colab": {
          "base_uri": "https://localhost:8080/"
        },
        "id": "ddmpdnW5Cf9x",
        "outputId": "55e95f59-690d-4f0c-e3a1-180061b98c4f"
      },
      "source": [
        "## Modelo 3: ajuste y selección de mejores parámetros, evaluación en el conjunto de pruebas\n",
        "\n",
        "### Inicio de tu código\n",
        "from sklearn.model_selection import GridSearchCV\n",
        "\n",
        "param_grid = {'C': [0.1, 1, 10], 'gamma': [1, 0.01],'kernel': ['rbf', 'poly', 'sigmoid']}\n",
        "grid = GridSearchCV(svm.SVC(), param_grid,refit=True,verbose=2)\n",
        "grid.fit(X_train_scaled, y_train)\n",
        "grid.score(X_test_scaled, y_test)\n",
        "\n",
        "### Fin de tu código"
      ],
      "execution_count": null,
      "outputs": [
        {
          "output_type": "stream",
          "text": [
            "Fitting 5 folds for each of 48 candidates, totalling 240 fits\n",
            "[CV] C=0.1, gamma=1, kernel=rbf ......................................\n"
          ],
          "name": "stdout"
        },
        {
          "output_type": "stream",
          "text": [
            "[Parallel(n_jobs=1)]: Using backend SequentialBackend with 1 concurrent workers.\n"
          ],
          "name": "stderr"
        }
      ]
    },
    {
      "cell_type": "markdown",
      "metadata": {
        "id": "gn1hhr1uCf9y"
      },
      "source": [
        "### Discusión  de resultados\n"
      ]
    },
    {
      "cell_type": "code",
      "metadata": {
        "id": "PqPO94t4Cf9y"
      },
      "source": [
        "## Respuestas"
      ],
      "execution_count": null,
      "outputs": []
    },
    {
      "cell_type": "code",
      "metadata": {
        "id": "57MU3zNXCf9z"
      },
      "source": [
        ""
      ],
      "execution_count": null,
      "outputs": []
    }
  ]
}